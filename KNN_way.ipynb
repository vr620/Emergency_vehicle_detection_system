{
 "cells": [
  {
   "cell_type": "code",
   "execution_count": 1,
   "metadata": {},
   "outputs": [],
   "source": [
    "import numpy as np\n",
    "import pandas as pd\n",
    "import matplotlib as mpl\n",
    "import matplotlib.pyplot as plt\n",
    "%matplotlib inline"
   ]
  },
  {
   "cell_type": "code",
   "execution_count": 2,
   "metadata": {},
   "outputs": [],
   "source": [
    "from sklearn.model_selection import train_test_split\n",
    "from sklearn.preprocessing import LabelEncoder"
   ]
  },
  {
   "cell_type": "code",
   "execution_count": 3,
   "metadata": {},
   "outputs": [],
   "source": [
    "col_names = [\"filename\",\"chroma_stft\",\"spectral_centroid\",\"spectral_bandwidth\",\"rolloff\",\"zero_crossing_rate\",\"mfcc1\",\"mfcc2\",\"mfcc3\",\"mfcc4\",\"mfcc5\",\"mfcc6\",\"mfcc7\",\"mfcc8\",\"mfcc9\",\"mfcc10\",\"mfcc11\",\"mfcc12\",\"mfcc13\",\"mfcc14\",\"mfcc15\",\"mfcc16\",\"mfcc17\",\"mfcc18\",\"mfcc19\",\"mfcc20\",\"label\" ]\n",
    "data = pd.read_csv(\"data_emg.csv\", names=col_names)\n",
    "data_1 = pd.read_csv(\"data_nonemg.csv\" , names = col_names)"
   ]
  },
  {
   "cell_type": "code",
   "execution_count": 4,
   "metadata": {},
   "outputs": [],
   "source": [
    "train = pd.concat([data , data_1])"
   ]
  },
  {
   "cell_type": "code",
   "execution_count": 5,
   "metadata": {},
   "outputs": [
    {
     "data": {
      "text/html": [
       "<div>\n",
       "<style scoped>\n",
       "    .dataframe tbody tr th:only-of-type {\n",
       "        vertical-align: middle;\n",
       "    }\n",
       "\n",
       "    .dataframe tbody tr th {\n",
       "        vertical-align: top;\n",
       "    }\n",
       "\n",
       "    .dataframe thead th {\n",
       "        text-align: right;\n",
       "    }\n",
       "</style>\n",
       "<table border=\"1\" class=\"dataframe\">\n",
       "  <thead>\n",
       "    <tr style=\"text-align: right;\">\n",
       "      <th></th>\n",
       "      <th>filename</th>\n",
       "      <th>chroma_stft</th>\n",
       "      <th>spectral_centroid</th>\n",
       "      <th>spectral_bandwidth</th>\n",
       "      <th>rolloff</th>\n",
       "      <th>zero_crossing_rate</th>\n",
       "      <th>mfcc1</th>\n",
       "      <th>mfcc2</th>\n",
       "      <th>mfcc3</th>\n",
       "      <th>mfcc4</th>\n",
       "      <th>...</th>\n",
       "      <th>mfcc12</th>\n",
       "      <th>mfcc13</th>\n",
       "      <th>mfcc14</th>\n",
       "      <th>mfcc15</th>\n",
       "      <th>mfcc16</th>\n",
       "      <th>mfcc17</th>\n",
       "      <th>mfcc18</th>\n",
       "      <th>mfcc19</th>\n",
       "      <th>mfcc20</th>\n",
       "      <th>label</th>\n",
       "    </tr>\n",
       "  </thead>\n",
       "  <tbody>\n",
       "    <tr>\n",
       "      <th>16.wav</th>\n",
       "      <td>0.336735</td>\n",
       "      <td>0.139032</td>\n",
       "      <td>2319.077218</td>\n",
       "      <td>2253.280541</td>\n",
       "      <td>4433.562293</td>\n",
       "      <td>0.136306</td>\n",
       "      <td>-46.939845</td>\n",
       "      <td>96.082878</td>\n",
       "      <td>-34.760861</td>\n",
       "      <td>6.555476</td>\n",
       "      <td>...</td>\n",
       "      <td>1.336271</td>\n",
       "      <td>-12.225394</td>\n",
       "      <td>1.636775</td>\n",
       "      <td>-13.770354</td>\n",
       "      <td>-3.576074</td>\n",
       "      <td>-13.023877</td>\n",
       "      <td>-5.139051</td>\n",
       "      <td>-8.861365</td>\n",
       "      <td>1.189709</td>\n",
       "      <td>emg</td>\n",
       "    </tr>\n",
       "    <tr>\n",
       "      <th>115.wav</th>\n",
       "      <td>0.366516</td>\n",
       "      <td>0.121893</td>\n",
       "      <td>1429.716923</td>\n",
       "      <td>1436.014835</td>\n",
       "      <td>2135.306960</td>\n",
       "      <td>0.087938</td>\n",
       "      <td>-183.400367</td>\n",
       "      <td>147.385682</td>\n",
       "      <td>-50.888940</td>\n",
       "      <td>-18.983834</td>\n",
       "      <td>...</td>\n",
       "      <td>4.311789</td>\n",
       "      <td>-8.041852</td>\n",
       "      <td>-5.194807</td>\n",
       "      <td>-9.175669</td>\n",
       "      <td>8.424673</td>\n",
       "      <td>-0.666838</td>\n",
       "      <td>4.417144</td>\n",
       "      <td>-4.197929</td>\n",
       "      <td>2.284233</td>\n",
       "      <td>emg</td>\n",
       "    </tr>\n",
       "    <tr>\n",
       "      <th>129.wav</th>\n",
       "      <td>0.152577</td>\n",
       "      <td>0.129218</td>\n",
       "      <td>1719.699268</td>\n",
       "      <td>1557.988425</td>\n",
       "      <td>3210.931866</td>\n",
       "      <td>0.118277</td>\n",
       "      <td>-174.354378</td>\n",
       "      <td>126.503773</td>\n",
       "      <td>-40.680083</td>\n",
       "      <td>19.329856</td>\n",
       "      <td>...</td>\n",
       "      <td>8.058940</td>\n",
       "      <td>9.352358</td>\n",
       "      <td>9.306955</td>\n",
       "      <td>-2.078496</td>\n",
       "      <td>-2.652938</td>\n",
       "      <td>-6.436986</td>\n",
       "      <td>-11.161624</td>\n",
       "      <td>-9.202338</td>\n",
       "      <td>18.568309</td>\n",
       "      <td>emg</td>\n",
       "    </tr>\n",
       "    <tr>\n",
       "      <th>114.wav</th>\n",
       "      <td>0.368252</td>\n",
       "      <td>0.127702</td>\n",
       "      <td>1736.103588</td>\n",
       "      <td>1736.869814</td>\n",
       "      <td>2937.832876</td>\n",
       "      <td>0.106887</td>\n",
       "      <td>-94.540492</td>\n",
       "      <td>138.255575</td>\n",
       "      <td>-45.451346</td>\n",
       "      <td>5.874052</td>\n",
       "      <td>...</td>\n",
       "      <td>5.647712</td>\n",
       "      <td>-1.894431</td>\n",
       "      <td>-5.966371</td>\n",
       "      <td>-7.954815</td>\n",
       "      <td>7.424956</td>\n",
       "      <td>-3.828139</td>\n",
       "      <td>-2.738114</td>\n",
       "      <td>-3.914032</td>\n",
       "      <td>1.552890</td>\n",
       "      <td>emg</td>\n",
       "    </tr>\n",
       "    <tr>\n",
       "      <th>101.wav</th>\n",
       "      <td>0.357789</td>\n",
       "      <td>0.059673</td>\n",
       "      <td>1607.607983</td>\n",
       "      <td>1176.641100</td>\n",
       "      <td>2759.769851</td>\n",
       "      <td>0.122878</td>\n",
       "      <td>-227.530012</td>\n",
       "      <td>190.436873</td>\n",
       "      <td>-122.439689</td>\n",
       "      <td>69.724357</td>\n",
       "      <td>...</td>\n",
       "      <td>-1.829177</td>\n",
       "      <td>-0.084204</td>\n",
       "      <td>26.161006</td>\n",
       "      <td>-10.485490</td>\n",
       "      <td>-1.259245</td>\n",
       "      <td>-2.835080</td>\n",
       "      <td>-9.586060</td>\n",
       "      <td>7.707302</td>\n",
       "      <td>-4.592865</td>\n",
       "      <td>emg</td>\n",
       "    </tr>\n",
       "  </tbody>\n",
       "</table>\n",
       "<p>5 rows × 27 columns</p>\n",
       "</div>"
      ],
      "text/plain": [
       "         filename  chroma_stft  spectral_centroid  spectral_bandwidth  \\\n",
       "16.wav   0.336735     0.139032        2319.077218         2253.280541   \n",
       "115.wav  0.366516     0.121893        1429.716923         1436.014835   \n",
       "129.wav  0.152577     0.129218        1719.699268         1557.988425   \n",
       "114.wav  0.368252     0.127702        1736.103588         1736.869814   \n",
       "101.wav  0.357789     0.059673        1607.607983         1176.641100   \n",
       "\n",
       "             rolloff  zero_crossing_rate       mfcc1       mfcc2       mfcc3  \\\n",
       "16.wav   4433.562293            0.136306  -46.939845   96.082878  -34.760861   \n",
       "115.wav  2135.306960            0.087938 -183.400367  147.385682  -50.888940   \n",
       "129.wav  3210.931866            0.118277 -174.354378  126.503773  -40.680083   \n",
       "114.wav  2937.832876            0.106887  -94.540492  138.255575  -45.451346   \n",
       "101.wav  2759.769851            0.122878 -227.530012  190.436873 -122.439689   \n",
       "\n",
       "             mfcc4  ...    mfcc12     mfcc13     mfcc14     mfcc15    mfcc16  \\\n",
       "16.wav    6.555476  ...  1.336271 -12.225394   1.636775 -13.770354 -3.576074   \n",
       "115.wav -18.983834  ...  4.311789  -8.041852  -5.194807  -9.175669  8.424673   \n",
       "129.wav  19.329856  ...  8.058940   9.352358   9.306955  -2.078496 -2.652938   \n",
       "114.wav   5.874052  ...  5.647712  -1.894431  -5.966371  -7.954815  7.424956   \n",
       "101.wav  69.724357  ... -1.829177  -0.084204  26.161006 -10.485490 -1.259245   \n",
       "\n",
       "            mfcc17     mfcc18    mfcc19     mfcc20  label  \n",
       "16.wav  -13.023877  -5.139051 -8.861365   1.189709    emg  \n",
       "115.wav  -0.666838   4.417144 -4.197929   2.284233    emg  \n",
       "129.wav  -6.436986 -11.161624 -9.202338  18.568309    emg  \n",
       "114.wav  -3.828139  -2.738114 -3.914032   1.552890    emg  \n",
       "101.wav  -2.835080  -9.586060  7.707302  -4.592865    emg  \n",
       "\n",
       "[5 rows x 27 columns]"
      ]
     },
     "execution_count": 5,
     "metadata": {},
     "output_type": "execute_result"
    }
   ],
   "source": [
    "train.head(5)"
   ]
  },
  {
   "cell_type": "code",
   "execution_count": 6,
   "metadata": {},
   "outputs": [],
   "source": [
    "train.drop(\"filename\" , axis = 1 , inplace = True)"
   ]
  },
  {
   "cell_type": "code",
   "execution_count": 7,
   "metadata": {},
   "outputs": [],
   "source": [
    "le = LabelEncoder()\n",
    "train['label'] = le.fit_transform(train['label'])"
   ]
  },
  {
   "cell_type": "code",
   "execution_count": 8,
   "metadata": {},
   "outputs": [],
   "source": [
    "y = train.pop(\"label\")"
   ]
  },
  {
   "cell_type": "code",
   "execution_count": 9,
   "metadata": {},
   "outputs": [],
   "source": [
    "x_train, x_test, y_train, y_test = train_test_split(train, y , test_size=0.20 , random_state = 1)"
   ]
  },
  {
   "cell_type": "code",
   "execution_count": 10,
   "metadata": {},
   "outputs": [],
   "source": [
    "from sklearn.neighbors import KNeighborsClassifier\n",
    "model = KNeighborsClassifier()"
   ]
  },
  {
   "cell_type": "code",
   "execution_count": 11,
   "metadata": {},
   "outputs": [
    {
     "data": {
      "text/plain": [
       "KNeighborsClassifier()"
      ]
     },
     "execution_count": 11,
     "metadata": {},
     "output_type": "execute_result"
    }
   ],
   "source": [
    "model.fit(x_train , y_train)"
   ]
  },
  {
   "cell_type": "code",
   "execution_count": 12,
   "metadata": {},
   "outputs": [],
   "source": [
    "y_pred = model.predict(x_test)"
   ]
  },
  {
   "cell_type": "code",
   "execution_count": 13,
   "metadata": {},
   "outputs": [
    {
     "data": {
      "text/plain": [
       "0.8583333333333334"
      ]
     },
     "execution_count": 13,
     "metadata": {},
     "output_type": "execute_result"
    }
   ],
   "source": [
    "from sklearn.metrics import roc_curve, auc\n",
    "false_positive_rate, true_positive_rate, thresholds = roc_curve(y_test, y_pred)\n",
    "roc_auc = auc(false_positive_rate, true_positive_rate)\n",
    "roc_auc"
   ]
  },
  {
   "cell_type": "code",
   "execution_count": 14,
   "metadata": {},
   "outputs": [],
   "source": [
    "from matplotlib.legend_handler import HandlerLine2D"
   ]
  },
  {
   "cell_type": "code",
   "execution_count": 15,
   "metadata": {},
   "outputs": [
    {
     "data": {
      "text/plain": [
       "Text(0.5, 0, 'n_neighbors')"
      ]
     },
     "execution_count": 15,
     "metadata": {},
     "output_type": "execute_result"
    },
    {
     "data": {
      "image/png": "[encoded data removed]",
      "text/plain": [
       "<Figure size 432x288 with 1 Axes>"
      ]
     },
     "metadata": {
      "needs_background": "light"
     },
     "output_type": "display_data"
    }
   ],
   "source": [
    "neighbors = list(range(1,31))\n",
    "train_results = []\n",
    "test_results = []\n",
    "for n in neighbors:\n",
    "    model = KNeighborsClassifier(n_neighbors=n)\n",
    "    model.fit(x_train, y_train)\n",
    "    train_pred = model.predict(x_train)\n",
    "    false_positive_rate, true_positive_rate, thresholds = roc_curve(y_train, train_pred)\n",
    "    roc_auc = auc(false_positive_rate, true_positive_rate)\n",
    "    train_results.append(roc_auc)\n",
    "    y_pred = model.predict(x_test)\n",
    "    false_positive_rate, true_positive_rate, thresholds = roc_curve(y_test, y_pred)\n",
    "    roc_auc = auc(false_positive_rate, true_positive_rate)\n",
    "    test_results.append(roc_auc)\n",
    "line1, = plt.plot(neighbors, train_results, \"b\" , label = \"train_auc\")\n",
    "line2, = plt.plot(neighbors, test_results, \"r\" , label = \"test_auc\")\n",
    "plt.legend(handler_map={line1: HandlerLine2D(numpoints=2)})\n",
    "plt.ylabel(\"AUC score\")\n",
    "plt.xlabel(\"n_neighbors\")"
   ]
  },
  {
   "cell_type": "code",
   "execution_count": null,
   "metadata": {},
   "outputs": [],
   "source": []
  }
 ],
 "metadata": {
  "kernelspec": {
   "display_name": "Python 3",
   "language": "python",
   "name": "python3"
  },
  "language_info": {
   "codemirror_mode": {
    "name": "ipython",
    "version": 3
   },
   "file_extension": ".py",
   "mimetype": "text/x-python",
   "name": "python",
   "nbconvert_exporter": "python",
   "pygments_lexer": "ipython3",
   "version": "3.7.6"
  }
 },
 "nbformat": 4,
 "nbformat_minor": 4
}
