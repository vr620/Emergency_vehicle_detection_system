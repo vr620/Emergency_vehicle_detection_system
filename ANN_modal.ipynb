{
 "cells": [
  {
   "cell_type": "code",
   "execution_count": 1,
   "metadata": {
    "colab": {
     "base_uri": "https://localhost:8080/",
     "height": 122
    },
    "colab_type": "code",
    "id": "jOw630Q7Xhuj",
    "outputId": "40f5b2e0-0490-40ba-c770-905adc509228"
   },
   "outputs": [
    {
     "name": "stdout",
     "output_type": "stream",
     "text": [
      "Go to this URL in a browser: https://accounts.google.com/o/oauth2/auth?client_id=947318989803-6bn6qk8qdgf4n4g3pfee6491hc0brc4i.apps.googleusercontent.com&redirect_uri=urn%3aietf%3awg%3aoauth%3a2.0%3aoob&response_type=code&scope=email%20https%3a%2f%2fwww.googleapis.com%2fauth%2fdocs.test%20https%3a%2f%2fwww.googleapis.com%2fauth%2fdrive%20https%3a%2f%2fwww.googleapis.com%2fauth%2fdrive.photos.readonly%20https%3a%2f%2fwww.googleapis.com%2fauth%2fpeopleapi.readonly\n",
      "\n",
      "Enter your authorization code:\n",
      "··········\n",
      "Mounted at /content/drive\n"
     ]
    }
   ],
   "source": [
    "from google.colab import drive\n",
    "drive.mount('/content/drive')"
   ]
  },
  {
   "cell_type": "markdown",
   "metadata": {
    "colab_type": "text",
    "id": "Ya9A-HweaQ-k"
   },
   "source": [
    "**importing important libraries**"
   ]
  },
  {
   "cell_type": "code",
   "execution_count": 2,
   "metadata": {
    "colab": {
     "base_uri": "https://localhost:8080/",
     "height": 34
    },
    "colab_type": "code",
    "id": "6lkJSwYRX2Vd",
    "outputId": "94441e2f-2357-45d8-8c3d-4814a0245ca5"
   },
   "outputs": [
    {
     "name": "stderr",
     "output_type": "stream",
     "text": [
      "Using TensorFlow backend.\n"
     ]
    }
   ],
   "source": [
    "import pandas as pd\n",
    "import numpy as np\n",
    "import matplotlib.pyplot as plt\n",
    "%matplotlib inline\n",
    "\n",
    "from sklearn.model_selection import train_test_split\n",
    "from sklearn.preprocessing import LabelEncoder, StandardScaler\n",
    "\n",
    "import keras\n",
    "from keras import layers\n",
    "from keras import layers\n",
    "import keras\n",
    "from keras.models import Sequential\n",
    "import warnings\n",
    "warnings.filterwarnings('ignore')"
   ]
  },
  {
   "cell_type": "markdown",
   "metadata": {},
   "source": [
    "# paths in drive."
   ]
  },
  {
   "cell_type": "code",
   "execution_count": 0,
   "metadata": {
    "colab": {},
    "colab_type": "code",
    "id": "JBjwy-08QtDy"
   },
   "outputs": [],
   "source": [
    "path =f'./drive/My Drive/audio_csv_files/data_emg.csv'\n",
    "path_1 = f'./drive/My Drive/audio_csv_files/data_nonemg.csv'"
   ]
  },
  {
   "cell_type": "markdown",
   "metadata": {},
   "source": [
    "# Reading datasets."
   ]
  },
  {
   "cell_type": "code",
   "execution_count": 0,
   "metadata": {
    "colab": {},
    "colab_type": "code",
    "id": "S0ioUV7TQtLk"
   },
   "outputs": [],
   "source": [
    "col_names = [\"filename\",\"chroma_stft\",\"spectral_centroid\",\"spectral_bandwidth\",\"rolloff\",\"zero_crossing_rate\",\"mfcc1\",\"mfcc2\",\"mfcc3\",\"mfcc4\",\"mfcc5\",\"mfcc6\",\"mfcc7\",\"mfcc8\",\"mfcc9\",\"mfcc10\",\"mfcc11\",\"mfcc12\",\"mfcc13\",\"mfcc14\",\"mfcc15\",\"mfcc16\",\"mfcc17\",\"mfcc18\",\"mfcc19\",\"mfcc20\",\"label\" ]\n",
    "data = pd.read_csv(path , names = col_names)\n",
    "data_1 = pd.read_csv(path_1 , names = col_names)"
   ]
  },
  {
   "cell_type": "markdown",
   "metadata": {},
   "source": [
    "# Looking at the shapes of datasets."
   ]
  },
  {
   "cell_type": "code",
   "execution_count": 5,
   "metadata": {
    "colab": {
     "base_uri": "https://localhost:8080/",
     "height": 51
    },
    "colab_type": "code",
    "id": "Bl32i-XWQtI-",
    "outputId": "751e2277-e80c-48be-8edf-37785f07a5ea"
   },
   "outputs": [
    {
     "name": "stdout",
     "output_type": "stream",
     "text": [
      "(123, 27)\n",
      "(123, 27)\n"
     ]
    }
   ],
   "source": [
    "print(data.shape)\n",
    "print(data_1.shape)"
   ]
  },
  {
   "cell_type": "code",
   "execution_count": 0,
   "metadata": {
    "colab": {},
    "colab_type": "code",
    "id": "BWvh7YDDQtBv"
   },
   "outputs": [],
   "source": [
    "train = pd.concat([data , data_1])"
   ]
  },
  {
   "cell_type": "code",
   "execution_count": 7,
   "metadata": {
    "colab": {
     "base_uri": "https://localhost:8080/",
     "height": 34
    },
    "colab_type": "code",
    "id": "svtlZariSQdf",
    "outputId": "0701c85a-e98c-4ad4-c409-e03563326ccf"
   },
   "outputs": [
    {
     "data": {
      "text/plain": [
       "(246, 27)"
      ]
     },
     "execution_count": 7,
     "metadata": {
      "tags": []
     },
     "output_type": "execute_result"
    }
   ],
   "source": [
    "train.shape"
   ]
  },
  {
   "cell_type": "markdown",
   "metadata": {},
   "source": [
    "# Merging and suffling both of the dataframes. now our train dataframe have both emg and nonemg values."
   ]
  },
  {
   "cell_type": "code",
   "execution_count": 0,
   "metadata": {
    "colab": {},
    "colab_type": "code",
    "id": "2NXTphGCSQgv"
   },
   "outputs": [],
   "source": [
    "train = train.sample(frac = 1)"
   ]
  },
  {
   "cell_type": "code",
   "execution_count": 0,
   "metadata": {
    "colab": {},
    "colab_type": "code",
    "id": "MA1uOak8SQa3"
   },
   "outputs": [],
   "source": [
    "train.drop(\"filename\" , axis = 1 , inplace = True)"
   ]
  },
  {
   "cell_type": "markdown",
   "metadata": {},
   "source": [
    "# labels are our output."
   ]
  },
  {
   "cell_type": "code",
   "execution_count": 0,
   "metadata": {
    "colab": {},
    "colab_type": "code",
    "id": "NNWRebyZQs-u"
   },
   "outputs": [],
   "source": [
    "labels = train.pop(\"label\")"
   ]
  },
  {
   "cell_type": "markdown",
   "metadata": {},
   "source": [
    "# encoding labels using labelencoder."
   ]
  },
  {
   "cell_type": "code",
   "execution_count": 0,
   "metadata": {
    "colab": {},
    "colab_type": "code",
    "id": "_ZQiYpaCSxy9"
   },
   "outputs": [],
   "source": [
    "encoder = LabelEncoder()\n",
    "y = encoder.fit_transform(labels)"
   ]
  },
  {
   "cell_type": "markdown",
   "metadata": {},
   "source": [
    "# scaling the feature is a important part."
   ]
  },
  {
   "cell_type": "code",
   "execution_count": 0,
   "metadata": {
    "colab": {},
    "colab_type": "code",
    "id": "4szRpmZSSx2e"
   },
   "outputs": [],
   "source": [
    "scaler = StandardScaler()\n",
    "x =scaler.fit_transform(train)"
   ]
  },
  {
   "cell_type": "markdown",
   "metadata": {},
   "source": [
    "# spliting the data in training , testing and validation_data . "
   ]
  },
  {
   "cell_type": "code",
   "execution_count": 0,
   "metadata": {
    "colab": {},
    "colab_type": "code",
    "id": "aadI7S_9SyJS"
   },
   "outputs": [],
   "source": [
    "x_train, x_test, y_train, y_test = train_test_split(x, y, test_size=0.2)\n",
    "x_train, x_val , y_train , y_val = train_test_split(x , y , test_size = 0.2)"
   ]
  },
  {
   "cell_type": "code",
   "execution_count": 14,
   "metadata": {
    "colab": {
     "base_uri": "https://localhost:8080/",
     "height": 34
    },
    "colab_type": "code",
    "id": "-wPGFxFVV47I",
    "outputId": "deb9c595-379d-4c19-9147-91d9d38195c5"
   },
   "outputs": [
    {
     "data": {
      "text/plain": [
       "(196, 25)"
      ]
     },
     "execution_count": 14,
     "metadata": {
      "tags": []
     },
     "output_type": "execute_result"
    }
   ],
   "source": [
    "x_train.shape"
   ]
  },
  {
   "cell_type": "markdown",
   "metadata": {},
   "source": [
    "# Creating our ANN model.\n"
   ]
  },
  {
   "cell_type": "code",
   "execution_count": 0,
   "metadata": {
    "colab": {},
    "colab_type": "code",
    "id": "iaN1-Q6FSx7f"
   },
   "outputs": [],
   "source": [
    "model = Sequential()\n",
    "model.add(layers.Dense(256, activation='relu', input_shape=(25,)))\n",
    "model.add(layers.Dense(128, activation='relu'))\n",
    "model.add(layers.Dense(64, activation='relu'))\n",
    "model.add(layers.Dense(2, activation='softmax'))"
   ]
  },
  {
   "cell_type": "markdown",
   "metadata": {},
   "source": [
    "# Compiling our model."
   ]
  },
  {
   "cell_type": "code",
   "execution_count": 0,
   "metadata": {
    "colab": {},
    "colab_type": "code",
    "id": "0_EOCeAQWde4"
   },
   "outputs": [],
   "source": [
    "model.compile(optimizer='adam',\n",
    "              loss='sparse_categorical_crossentropy',\n",
    "              metrics=['acc']) "
   ]
  },
  {
   "cell_type": "code",
   "execution_count": 18,
   "metadata": {
    "colab": {
     "base_uri": "https://localhost:8080/",
     "height": 102
    },
    "colab_type": "code",
    "id": "CJd2jYD7wbJQ",
    "outputId": "8143e31d-b10b-4dcb-ec0d-8c357c2f5347"
   },
   "outputs": [
    {
     "name": "stdout",
     "output_type": "stream",
     "text": [
      "(246, 25)\n",
      "(196, 25)\n",
      "(196,)\n",
      "(50, 25)\n",
      "(50,)\n"
     ]
    }
   ],
   "source": [
    "print(train.shape)\n",
    "print(x_train.shape)\n",
    "print(y_train.shape)\n",
    "print(x_test.shape)\n",
    "print(y_test.shape)"
   ]
  },
  {
   "cell_type": "code",
   "execution_count": 25,
   "metadata": {
    "colab": {
     "base_uri": "https://localhost:8080/",
     "height": 1000
    },
    "colab_type": "code",
    "id": "Z4ehs64Ic5Eo",
    "outputId": "30c5f754-c834-4bf1-c4ca-084847719c1b"
   },
   "outputs": [
    {
     "name": "stdout",
     "output_type": "stream",
     "text": [
      "Train on 196 samples, validate on 50 samples\n",
      "Epoch 1/100\n",
      "196/196 [==============================] - 0s 129us/step - loss: 4.3644e-05 - acc: 1.0000 - val_loss: 2.5450 - val_acc: 0.7000\n",
      "Epoch 2/100\n",
      "196/196 [==============================] - 0s 104us/step - loss: 4.3249e-05 - acc: 1.0000 - val_loss: 2.5473 - val_acc: 0.7000\n",
      "Epoch 3/100\n",
      "196/196 [==============================] - 0s 103us/step - loss: 4.2854e-05 - acc: 1.0000 - val_loss: 2.5496 - val_acc: 0.7000\n",
      "Epoch 4/100\n",
      "196/196 [==============================] - 0s 112us/step - loss: 4.2467e-05 - acc: 1.0000 - val_loss: 2.5518 - val_acc: 0.7000\n",
      "Epoch 5/100\n",
      "196/196 [==============================] - 0s 104us/step - loss: 4.2081e-05 - acc: 1.0000 - val_loss: 2.5541 - val_acc: 0.7000\n",
      "Epoch 6/100\n",
      "196/196 [==============================] - 0s 109us/step - loss: 4.1701e-05 - acc: 1.0000 - val_loss: 2.5564 - val_acc: 0.7000\n",
      "Epoch 7/100\n",
      "196/196 [==============================] - 0s 104us/step - loss: 4.1322e-05 - acc: 1.0000 - val_loss: 2.5587 - val_acc: 0.7000\n",
      "Epoch 8/100\n",
      "196/196 [==============================] - 0s 106us/step - loss: 4.0955e-05 - acc: 1.0000 - val_loss: 2.5610 - val_acc: 0.7000\n",
      "Epoch 9/100\n",
      "196/196 [==============================] - 0s 99us/step - loss: 4.0600e-05 - acc: 1.0000 - val_loss: 2.5633 - val_acc: 0.7000\n",
      "Epoch 10/100\n",
      "196/196 [==============================] - 0s 102us/step - loss: 4.0227e-05 - acc: 1.0000 - val_loss: 2.5657 - val_acc: 0.7000\n",
      "Epoch 11/100\n",
      "196/196 [==============================] - 0s 126us/step - loss: 3.9867e-05 - acc: 1.0000 - val_loss: 2.5680 - val_acc: 0.7000\n",
      "Epoch 12/100\n",
      "196/196 [==============================] - 0s 109us/step - loss: 3.9510e-05 - acc: 1.0000 - val_loss: 2.5703 - val_acc: 0.7000\n",
      "Epoch 13/100\n",
      "196/196 [==============================] - 0s 106us/step - loss: 3.9163e-05 - acc: 1.0000 - val_loss: 2.5725 - val_acc: 0.7000\n",
      "Epoch 14/100\n",
      "196/196 [==============================] - 0s 126us/step - loss: 3.8816e-05 - acc: 1.0000 - val_loss: 2.5747 - val_acc: 0.7000\n",
      "Epoch 15/100\n",
      "196/196 [==============================] - 0s 100us/step - loss: 3.8475e-05 - acc: 1.0000 - val_loss: 2.5770 - val_acc: 0.7000\n",
      "Epoch 16/100\n",
      "196/196 [==============================] - 0s 138us/step - loss: 3.8138e-05 - acc: 1.0000 - val_loss: 2.5792 - val_acc: 0.7000\n",
      "Epoch 17/100\n",
      "196/196 [==============================] - 0s 101us/step - loss: 3.7806e-05 - acc: 1.0000 - val_loss: 2.5813 - val_acc: 0.7000\n",
      "Epoch 18/100\n",
      "196/196 [==============================] - 0s 102us/step - loss: 3.7480e-05 - acc: 1.0000 - val_loss: 2.5834 - val_acc: 0.7000\n",
      "Epoch 19/100\n",
      "196/196 [==============================] - 0s 107us/step - loss: 3.7154e-05 - acc: 1.0000 - val_loss: 2.5856 - val_acc: 0.7000\n",
      "Epoch 20/100\n",
      "196/196 [==============================] - 0s 97us/step - loss: 3.6835e-05 - acc: 1.0000 - val_loss: 2.5877 - val_acc: 0.7000\n",
      "Epoch 21/100\n",
      "196/196 [==============================] - 0s 102us/step - loss: 3.6524e-05 - acc: 1.0000 - val_loss: 2.5898 - val_acc: 0.7000\n",
      "Epoch 22/100\n",
      "196/196 [==============================] - 0s 106us/step - loss: 3.6208e-05 - acc: 1.0000 - val_loss: 2.5920 - val_acc: 0.7000\n",
      "Epoch 23/100\n",
      "196/196 [==============================] - 0s 107us/step - loss: 3.5901e-05 - acc: 1.0000 - val_loss: 2.5942 - val_acc: 0.7000\n",
      "Epoch 24/100\n",
      "196/196 [==============================] - 0s 103us/step - loss: 3.5589e-05 - acc: 1.0000 - val_loss: 2.5963 - val_acc: 0.7000\n",
      "Epoch 25/100\n",
      "196/196 [==============================] - 0s 110us/step - loss: 3.5299e-05 - acc: 1.0000 - val_loss: 2.5984 - val_acc: 0.7000\n",
      "Epoch 26/100\n",
      "196/196 [==============================] - 0s 114us/step - loss: 3.5005e-05 - acc: 1.0000 - val_loss: 2.6005 - val_acc: 0.7000\n",
      "Epoch 27/100\n",
      "196/196 [==============================] - 0s 117us/step - loss: 3.4701e-05 - acc: 1.0000 - val_loss: 2.6026 - val_acc: 0.7000\n",
      "Epoch 28/100\n",
      "196/196 [==============================] - 0s 105us/step - loss: 3.4413e-05 - acc: 1.0000 - val_loss: 2.6048 - val_acc: 0.7000\n",
      "Epoch 29/100\n",
      "196/196 [==============================] - 0s 116us/step - loss: 3.4129e-05 - acc: 1.0000 - val_loss: 2.6069 - val_acc: 0.7000\n",
      "Epoch 30/100\n",
      "196/196 [==============================] - 0s 103us/step - loss: 3.3850e-05 - acc: 1.0000 - val_loss: 2.6090 - val_acc: 0.7000\n",
      "Epoch 31/100\n",
      "196/196 [==============================] - 0s 106us/step - loss: 3.3570e-05 - acc: 1.0000 - val_loss: 2.6111 - val_acc: 0.7000\n",
      "Epoch 32/100\n",
      "196/196 [==============================] - 0s 108us/step - loss: 3.3292e-05 - acc: 1.0000 - val_loss: 2.6132 - val_acc: 0.7000\n",
      "Epoch 33/100\n",
      "196/196 [==============================] - 0s 112us/step - loss: 3.3013e-05 - acc: 1.0000 - val_loss: 2.6153 - val_acc: 0.7000\n",
      "Epoch 34/100\n",
      "196/196 [==============================] - 0s 100us/step - loss: 3.2748e-05 - acc: 1.0000 - val_loss: 2.6174 - val_acc: 0.7000\n",
      "Epoch 35/100\n",
      "196/196 [==============================] - 0s 106us/step - loss: 3.2475e-05 - acc: 1.0000 - val_loss: 2.6194 - val_acc: 0.7000\n",
      "Epoch 36/100\n",
      "196/196 [==============================] - 0s 102us/step - loss: 3.2205e-05 - acc: 1.0000 - val_loss: 2.6215 - val_acc: 0.7000\n",
      "Epoch 37/100\n",
      "196/196 [==============================] - 0s 100us/step - loss: 3.1949e-05 - acc: 1.0000 - val_loss: 2.6236 - val_acc: 0.7000\n",
      "Epoch 38/100\n",
      "196/196 [==============================] - 0s 99us/step - loss: 3.1696e-05 - acc: 1.0000 - val_loss: 2.6257 - val_acc: 0.7000\n",
      "Epoch 39/100\n",
      "196/196 [==============================] - 0s 127us/step - loss: 3.1442e-05 - acc: 1.0000 - val_loss: 2.6277 - val_acc: 0.7000\n",
      "Epoch 40/100\n",
      "196/196 [==============================] - 0s 126us/step - loss: 3.1183e-05 - acc: 1.0000 - val_loss: 2.6298 - val_acc: 0.7000\n",
      "Epoch 41/100\n",
      "196/196 [==============================] - 0s 103us/step - loss: 3.0935e-05 - acc: 1.0000 - val_loss: 2.6318 - val_acc: 0.7000\n",
      "Epoch 42/100\n",
      "196/196 [==============================] - 0s 105us/step - loss: 3.0688e-05 - acc: 1.0000 - val_loss: 2.6339 - val_acc: 0.7000\n",
      "Epoch 43/100\n",
      "196/196 [==============================] - 0s 113us/step - loss: 3.0450e-05 - acc: 1.0000 - val_loss: 2.6360 - val_acc: 0.7000\n",
      "Epoch 44/100\n",
      "196/196 [==============================] - 0s 100us/step - loss: 3.0203e-05 - acc: 1.0000 - val_loss: 2.6380 - val_acc: 0.7000\n",
      "Epoch 45/100\n",
      "196/196 [==============================] - 0s 111us/step - loss: 2.9959e-05 - acc: 1.0000 - val_loss: 2.6400 - val_acc: 0.7000\n",
      "Epoch 46/100\n",
      "196/196 [==============================] - 0s 102us/step - loss: 2.9716e-05 - acc: 1.0000 - val_loss: 2.6420 - val_acc: 0.7000\n",
      "Epoch 47/100\n",
      "196/196 [==============================] - 0s 107us/step - loss: 2.9481e-05 - acc: 1.0000 - val_loss: 2.6439 - val_acc: 0.7000\n",
      "Epoch 48/100\n",
      "196/196 [==============================] - 0s 102us/step - loss: 2.9259e-05 - acc: 1.0000 - val_loss: 2.6459 - val_acc: 0.7000\n",
      "Epoch 49/100\n",
      "196/196 [==============================] - 0s 123us/step - loss: 2.9019e-05 - acc: 1.0000 - val_loss: 2.6479 - val_acc: 0.7000\n",
      "Epoch 50/100\n",
      "196/196 [==============================] - 0s 98us/step - loss: 2.8790e-05 - acc: 1.0000 - val_loss: 2.6499 - val_acc: 0.7000\n",
      "Epoch 51/100\n",
      "196/196 [==============================] - 0s 104us/step - loss: 2.8570e-05 - acc: 1.0000 - val_loss: 2.6518 - val_acc: 0.7000\n",
      "Epoch 52/100\n",
      "196/196 [==============================] - 0s 105us/step - loss: 2.8346e-05 - acc: 1.0000 - val_loss: 2.6538 - val_acc: 0.7000\n",
      "Epoch 53/100\n",
      "196/196 [==============================] - 0s 102us/step - loss: 2.8122e-05 - acc: 1.0000 - val_loss: 2.6558 - val_acc: 0.7000\n",
      "Epoch 54/100\n",
      "196/196 [==============================] - 0s 99us/step - loss: 2.7912e-05 - acc: 1.0000 - val_loss: 2.6577 - val_acc: 0.7000\n",
      "Epoch 55/100\n",
      "196/196 [==============================] - 0s 105us/step - loss: 2.7694e-05 - acc: 1.0000 - val_loss: 2.6596 - val_acc: 0.7000\n",
      "Epoch 56/100\n",
      "196/196 [==============================] - 0s 104us/step - loss: 2.7485e-05 - acc: 1.0000 - val_loss: 2.6616 - val_acc: 0.7000\n",
      "Epoch 57/100\n",
      "196/196 [==============================] - 0s 114us/step - loss: 2.7269e-05 - acc: 1.0000 - val_loss: 2.6635 - val_acc: 0.7000\n",
      "Epoch 58/100\n",
      "196/196 [==============================] - 0s 112us/step - loss: 2.7059e-05 - acc: 1.0000 - val_loss: 2.6654 - val_acc: 0.7000\n",
      "Epoch 59/100\n",
      "196/196 [==============================] - 0s 102us/step - loss: 2.6851e-05 - acc: 1.0000 - val_loss: 2.6673 - val_acc: 0.7000\n",
      "Epoch 60/100\n",
      "196/196 [==============================] - 0s 119us/step - loss: 2.6658e-05 - acc: 1.0000 - val_loss: 2.6692 - val_acc: 0.7000\n",
      "Epoch 61/100\n",
      "196/196 [==============================] - 0s 120us/step - loss: 2.6443e-05 - acc: 1.0000 - val_loss: 2.6711 - val_acc: 0.7000\n",
      "Epoch 62/100\n",
      "196/196 [==============================] - 0s 122us/step - loss: 2.6250e-05 - acc: 1.0000 - val_loss: 2.6730 - val_acc: 0.7000\n",
      "Epoch 63/100\n",
      "196/196 [==============================] - 0s 117us/step - loss: 2.6049e-05 - acc: 1.0000 - val_loss: 2.6750 - val_acc: 0.7000\n",
      "Epoch 64/100\n",
      "196/196 [==============================] - 0s 116us/step - loss: 2.5847e-05 - acc: 1.0000 - val_loss: 2.6770 - val_acc: 0.7000\n",
      "Epoch 65/100\n",
      "196/196 [==============================] - 0s 103us/step - loss: 2.5650e-05 - acc: 1.0000 - val_loss: 2.6789 - val_acc: 0.7000\n",
      "Epoch 66/100\n",
      "196/196 [==============================] - 0s 103us/step - loss: 2.5461e-05 - acc: 1.0000 - val_loss: 2.6808 - val_acc: 0.7000\n",
      "Epoch 67/100\n",
      "196/196 [==============================] - 0s 104us/step - loss: 2.5272e-05 - acc: 1.0000 - val_loss: 2.6828 - val_acc: 0.7000\n",
      "Epoch 68/100\n",
      "196/196 [==============================] - 0s 103us/step - loss: 2.5090e-05 - acc: 1.0000 - val_loss: 2.6846 - val_acc: 0.7000\n",
      "Epoch 69/100\n",
      "196/196 [==============================] - 0s 116us/step - loss: 2.4893e-05 - acc: 1.0000 - val_loss: 2.6865 - val_acc: 0.7000\n",
      "Epoch 70/100\n",
      "196/196 [==============================] - 0s 98us/step - loss: 2.4709e-05 - acc: 1.0000 - val_loss: 2.6883 - val_acc: 0.7000\n",
      "Epoch 71/100\n",
      "196/196 [==============================] - 0s 123us/step - loss: 2.4528e-05 - acc: 1.0000 - val_loss: 2.6902 - val_acc: 0.7000\n",
      "Epoch 72/100\n",
      "196/196 [==============================] - 0s 105us/step - loss: 2.4341e-05 - acc: 1.0000 - val_loss: 2.6921 - val_acc: 0.7000\n",
      "Epoch 73/100\n",
      "196/196 [==============================] - 0s 99us/step - loss: 2.4169e-05 - acc: 1.0000 - val_loss: 2.6939 - val_acc: 0.7000\n",
      "Epoch 74/100\n",
      "196/196 [==============================] - 0s 110us/step - loss: 2.3986e-05 - acc: 1.0000 - val_loss: 2.6958 - val_acc: 0.7000\n",
      "Epoch 75/100\n",
      "196/196 [==============================] - 0s 141us/step - loss: 2.3816e-05 - acc: 1.0000 - val_loss: 2.6976 - val_acc: 0.7000\n",
      "Epoch 76/100\n",
      "196/196 [==============================] - 0s 104us/step - loss: 2.3637e-05 - acc: 1.0000 - val_loss: 2.6995 - val_acc: 0.7000\n",
      "Epoch 77/100\n",
      "196/196 [==============================] - 0s 104us/step - loss: 2.3466e-05 - acc: 1.0000 - val_loss: 2.7013 - val_acc: 0.7000\n",
      "Epoch 78/100\n",
      "196/196 [==============================] - 0s 103us/step - loss: 2.3291e-05 - acc: 1.0000 - val_loss: 2.7032 - val_acc: 0.7000\n",
      "Epoch 79/100\n",
      "196/196 [==============================] - 0s 111us/step - loss: 2.3126e-05 - acc: 1.0000 - val_loss: 2.7050 - val_acc: 0.7000\n",
      "Epoch 80/100\n",
      "196/196 [==============================] - 0s 112us/step - loss: 2.2966e-05 - acc: 1.0000 - val_loss: 2.7069 - val_acc: 0.7000\n",
      "Epoch 81/100\n",
      "196/196 [==============================] - 0s 108us/step - loss: 2.2786e-05 - acc: 1.0000 - val_loss: 2.7089 - val_acc: 0.7000\n",
      "Epoch 82/100\n",
      "196/196 [==============================] - 0s 106us/step - loss: 2.2631e-05 - acc: 1.0000 - val_loss: 2.7108 - val_acc: 0.7000\n",
      "Epoch 83/100\n",
      "196/196 [==============================] - 0s 105us/step - loss: 2.2462e-05 - acc: 1.0000 - val_loss: 2.7126 - val_acc: 0.7000\n",
      "Epoch 84/100\n",
      "196/196 [==============================] - 0s 100us/step - loss: 2.2303e-05 - acc: 1.0000 - val_loss: 2.7144 - val_acc: 0.7000\n",
      "Epoch 85/100\n",
      "196/196 [==============================] - 0s 113us/step - loss: 2.2139e-05 - acc: 1.0000 - val_loss: 2.7162 - val_acc: 0.7000\n",
      "Epoch 86/100\n",
      "196/196 [==============================] - 0s 96us/step - loss: 2.1990e-05 - acc: 1.0000 - val_loss: 2.7179 - val_acc: 0.7000\n",
      "Epoch 87/100\n",
      "196/196 [==============================] - 0s 107us/step - loss: 2.1829e-05 - acc: 1.0000 - val_loss: 2.7198 - val_acc: 0.7000\n",
      "Epoch 88/100\n",
      "196/196 [==============================] - 0s 107us/step - loss: 2.1672e-05 - acc: 1.0000 - val_loss: 2.7216 - val_acc: 0.7000\n",
      "Epoch 89/100\n",
      "196/196 [==============================] - 0s 113us/step - loss: 2.1523e-05 - acc: 1.0000 - val_loss: 2.7234 - val_acc: 0.7000\n",
      "Epoch 90/100\n",
      "196/196 [==============================] - 0s 102us/step - loss: 2.1375e-05 - acc: 1.0000 - val_loss: 2.7252 - val_acc: 0.7000\n",
      "Epoch 91/100\n",
      "196/196 [==============================] - 0s 109us/step - loss: 2.1217e-05 - acc: 1.0000 - val_loss: 2.7270 - val_acc: 0.7000\n",
      "Epoch 92/100\n",
      "196/196 [==============================] - 0s 137us/step - loss: 2.1074e-05 - acc: 1.0000 - val_loss: 2.7288 - val_acc: 0.7000\n",
      "Epoch 93/100\n",
      "196/196 [==============================] - 0s 110us/step - loss: 2.0927e-05 - acc: 1.0000 - val_loss: 2.7307 - val_acc: 0.7000\n",
      "Epoch 94/100\n",
      "196/196 [==============================] - 0s 110us/step - loss: 2.0781e-05 - acc: 1.0000 - val_loss: 2.7325 - val_acc: 0.7000\n",
      "Epoch 95/100\n",
      "196/196 [==============================] - 0s 117us/step - loss: 2.0622e-05 - acc: 1.0000 - val_loss: 2.7342 - val_acc: 0.7000\n",
      "Epoch 96/100\n",
      "196/196 [==============================] - 0s 105us/step - loss: 2.0491e-05 - acc: 1.0000 - val_loss: 2.7360 - val_acc: 0.7000\n",
      "Epoch 97/100\n",
      "196/196 [==============================] - 0s 101us/step - loss: 2.0341e-05 - acc: 1.0000 - val_loss: 2.7378 - val_acc: 0.7000\n",
      "Epoch 98/100\n",
      "196/196 [==============================] - 0s 107us/step - loss: 2.0198e-05 - acc: 1.0000 - val_loss: 2.7396 - val_acc: 0.7000\n",
      "Epoch 99/100\n",
      "196/196 [==============================] - 0s 108us/step - loss: 2.0064e-05 - acc: 1.0000 - val_loss: 2.7413 - val_acc: 0.7000\n",
      "Epoch 100/100\n",
      "196/196 [==============================] - 0s 106us/step - loss: 1.9926e-05 - acc: 1.0000 - val_loss: 2.7432 - val_acc: 0.7000\n"
     ]
    }
   ],
   "source": [
    "clf = model.fit(x_train , y_train , epochs = 100 , validation_data = (x_val , y_val))"
   ]
  },
  {
   "cell_type": "code",
   "execution_count": 26,
   "metadata": {
    "colab": {
     "base_uri": "https://localhost:8080/",
     "height": 34
    },
    "colab_type": "code",
    "id": "4ZwWeVrVYbjl",
    "outputId": "adb976d5-7ffe-4bb2-c54b-2b949ee62ab0"
   },
   "outputs": [
    {
     "name": "stdout",
     "output_type": "stream",
     "text": [
      "50/50 [==============================] - 0s 60us/step\n"
     ]
    }
   ],
   "source": [
    "prediction = model.predict(x_test)\n",
    "performance = model.evaluate(x_test , y_test)"
   ]
  },
  {
   "cell_type": "code",
   "execution_count": 27,
   "metadata": {
    "colab": {
     "base_uri": "https://localhost:8080/",
     "height": 34
    },
    "colab_type": "code",
    "id": "u-1HC0CKY_XR",
    "outputId": "2642635f-9270-4314-97f6-9bb9231ba0c3"
   },
   "outputs": [
    {
     "name": "stdout",
     "output_type": "stream",
     "text": [
      "[0.030235804789699613, 0.9800000190734863]\n"
     ]
    }
   ],
   "source": [
    "print(performance)"
   ]
  },
  {
   "cell_type": "markdown",
   "metadata": {
    "colab": {},
    "colab_type": "code",
    "id": "0prJHpvNZHfG"
   },
   "source": [
    "# Accuracy is about 98% "
   ]
  },
  {
   "cell_type": "code",
   "execution_count": null,
   "metadata": {},
   "outputs": [],
   "source": []
  }
 ],
 "metadata": {
  "colab": {
   "name": "ANN_modal.ipynb",
   "provenance": []
  },
  "kernelspec": {
   "display_name": "Python 3",
   "language": "python",
   "name": "python3"
  },
  "language_info": {
   "codemirror_mode": {
    "name": "ipython",
    "version": 3
   },
   "file_extension": ".py",
   "mimetype": "text/x-python",
   "name": "python",
   "nbconvert_exporter": "python",
   "pygments_lexer": "ipython3",
   "version": "3.7.6"
  }
 },
 "nbformat": 4,
 "nbformat_minor": 1
}
