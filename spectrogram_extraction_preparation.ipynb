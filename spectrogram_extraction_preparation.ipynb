{
  "nbformat": 4,
  "nbformat_minor": 0,
  "metadata": {
    "colab": {
      "name": "spectrogram_extraction_preparation.ipynb",
      "provenance": [],
      "collapsed_sections": []
    },
    "kernelspec": {
      "name": "python3",
      "display_name": "Python 3"
    }
  },
  "cells": [
    {
      "cell_type": "code",
      "metadata": {
        "id": "ywwDsM98Ifww",
        "colab_type": "code",
        "colab": {
          "base_uri": "https://localhost:8080/",
          "height": 54
        },
        "outputId": "e93fcb66-2351-47cf-f50d-326730e769f7"
      },
      "source": [
        "from google.colab import drive\n",
        "drive.mount('/content/drive')"
      ],
      "execution_count": 18,
      "outputs": [
        {
          "output_type": "stream",
          "text": [
            "Drive already mounted at /content/drive; to attempt to forcibly remount, call drive.mount(\"/content/drive\", force_remount=True).\n"
          ],
          "name": "stdout"
        }
      ]
    },
    {
      "cell_type": "markdown",
      "metadata": {
        "id": "JLqFpu9RLq-b",
        "colab_type": "text"
      },
      "source": [
        "**LIbraries for ploting\n",
        "**"
      ]
    },
    {
      "cell_type": "code",
      "metadata": {
        "id": "UTgdbb0xLTqu",
        "colab_type": "code",
        "colab": {}
      },
      "source": [
        "import pandas as pd\n",
        "import numpy as np\n",
        "from numpy import argmax\n",
        "import matplotlib.pyplot as plt\n",
        "%matplotlib inline"
      ],
      "execution_count": 0,
      "outputs": []
    },
    {
      "cell_type": "code",
      "metadata": {
        "id": "s-rvzni5LUMn",
        "colab_type": "code",
        "colab": {}
      },
      "source": [
        "import librosa.display\n",
        "import IPython.display\n",
        "import random\n",
        "import warnings\n",
        "import os\n",
        "from PIL import Image\n",
        "import pathlib\n",
        "import csv"
      ],
      "execution_count": 0,
      "outputs": []
    },
    {
      "cell_type": "code",
      "metadata": {
        "id": "YveOdms8LUP-",
        "colab_type": "code",
        "colab": {}
      },
      "source": [
        "import warnings\n",
        "warnings.filterwarnings('ignore')"
      ],
      "execution_count": 0,
      "outputs": []
    },
    {
      "cell_type": "code",
      "metadata": {
        "id": "FVATrpZ8LUWe",
        "colab_type": "code",
        "colab": {
          "base_uri": "https://localhost:8080/",
          "height": 34
        },
        "outputId": "8974e15a-006b-4afa-c126-f9c9a39968a7"
      },
      "source": [
        "cmap = plt.get_cmap('inferno')\n",
        "plt.figure(figsize=(8,8))\n",
        "g = \"emg\"\n",
        "pathlib.Path(f'./drive/My Drive/img_data/{g}').mkdir(parents=True, exist_ok=True)\n",
        "for filename in os.listdir(f'./drive/My Drive/new train/{g}'):\n",
        "    songname = f'./drive/My Drive/new train/{g}/{filename}'\n",
        "    y, sr = librosa.load(songname, mono=True, duration=1.2)\n",
        "    plt.specgram(y, NFFT=2048, Fs=2, Fc=0, noverlap=128, cmap=cmap, sides='default', mode='default', scale='dB');\n",
        "    plt.axis('off');\n",
        "    plt.savefig(f'./drive/My Drive/img_data/{g}/{filename[:-3].replace(\".\", \"\")}.png')\n",
        "    plt.clf()"
      ],
      "execution_count": 26,
      "outputs": [
        {
          "output_type": "display_data",
          "data": {
            "text/plain": [
              "<Figure size 576x576 with 0 Axes>"
            ]
          },
          "metadata": {
            "tags": []
          }
        }
      ]
    },
    {
      "cell_type": "code",
      "metadata": {
        "id": "22jgZxWHLUUQ",
        "colab_type": "code",
        "colab": {
          "base_uri": "https://localhost:8080/",
          "height": 34
        },
        "outputId": "942219df-3010-4172-b243-198ce5237583"
      },
      "source": [
        "cmap = plt.get_cmap('inferno')\n",
        "plt.figure(figsize=(8,8))\n",
        "g = \"nonemg\"\n",
        "pathlib.Path(f'./drive/My Drive/img_data/{g}').mkdir(parents=True, exist_ok=True)\n",
        "for filename in os.listdir(f'./drive/My Drive/new train/{g}'):\n",
        "    songname = f'./drive/My Drive/new train/{g}/{filename}'\n",
        "    y, sr = librosa.load(songname, mono=True, duration=1.2)\n",
        "    plt.specgram(y, NFFT=2048, Fs=2, Fc=0, noverlap=128, cmap=cmap, sides='default', mode='default', scale='dB');\n",
        "    plt.axis('off');\n",
        "    plt.savefig(f'./drive/My Drive/img_data/{g}/{filename[:-3].replace(\".\", \"\")}.png')\n",
        "    plt.clf()"
      ],
      "execution_count": 29,
      "outputs": [
        {
          "output_type": "display_data",
          "data": {
            "text/plain": [
              "<Figure size 576x576 with 0 Axes>"
            ]
          },
          "metadata": {
            "tags": []
          }
        }
      ]
    },
    {
      "cell_type": "code",
      "metadata": {
        "id": "o6y2Puo-LUS8",
        "colab_type": "code",
        "colab": {}
      },
      "source": [
        ""
      ],
      "execution_count": 0,
      "outputs": []
    }
  ]
}