{
 "cells": [
  {
   "cell_type": "code",
   "execution_count": 1,
   "metadata": {},
   "outputs": [],
   "source": [
    "import numpy as np\n",
    "import pandas as pd\n",
    "import matplotlib as mpl\n",
    "import matplotlib.pyplot as plt\n",
    "%matplotlib inline"
   ]
  },
  {
   "cell_type": "code",
   "execution_count": 2,
   "metadata": {},
   "outputs": [],
   "source": [
    "from sklearn.model_selection import train_test_split\n",
    "from sklearn.tree import DecisionTreeClassifier\n",
    "from sklearn.metrics import roc_curve, auc\n",
    "from sklearn.preprocessing import LabelEncoder"
   ]
  },
  {
   "cell_type": "code",
   "execution_count": 3,
   "metadata": {},
   "outputs": [],
   "source": [
    "col_names = [\"filename\",\"chroma_stft\",\"spectral_centroid\",\"spectral_bandwidth\",\"rolloff\",\"zero_crossing_rate\",\"mfcc1\",\"mfcc2\",\"mfcc3\",\"mfcc4\",\"mfcc5\",\"mfcc6\",\"mfcc7\",\"mfcc8\",\"mfcc9\",\"mfcc10\",\"mfcc11\",\"mfcc12\",\"mfcc13\",\"mfcc14\",\"mfcc15\",\"mfcc16\",\"mfcc17\",\"mfcc18\",\"mfcc19\",\"mfcc20\",\"label\" ]\n",
    "data = pd.read_csv(\"data_emg.csv\", names=col_names)\n",
    "data_1 = pd.read_csv(\"data_nonemg.csv\" , names = col_names)"
   ]
  },
  {
   "cell_type": "code",
   "execution_count": 4,
   "metadata": {},
   "outputs": [
    {
     "name": "stdout",
     "output_type": "stream",
     "text": [
      "(123, 27)\n"
     ]
    }
   ],
   "source": [
    "print(data.shape)"
   ]
  },
  {
   "cell_type": "code",
   "execution_count": 5,
   "metadata": {},
   "outputs": [
    {
     "name": "stdout",
     "output_type": "stream",
     "text": [
      "(123, 27)\n"
     ]
    }
   ],
   "source": [
    "print(data_1.shape)"
   ]
  },
  {
   "cell_type": "code",
   "execution_count": 6,
   "metadata": {},
   "outputs": [
    {
     "data": {
      "text/html": [
       "<div>\n",
       "<style scoped>\n",
       "    .dataframe tbody tr th:only-of-type {\n",
       "        vertical-align: middle;\n",
       "    }\n",
       "\n",
       "    .dataframe tbody tr th {\n",
       "        vertical-align: top;\n",
       "    }\n",
       "\n",
       "    .dataframe thead th {\n",
       "        text-align: right;\n",
       "    }\n",
       "</style>\n",
       "<table border=\"1\" class=\"dataframe\">\n",
       "  <thead>\n",
       "    <tr style=\"text-align: right;\">\n",
       "      <th></th>\n",
       "      <th>filename</th>\n",
       "      <th>chroma_stft</th>\n",
       "      <th>spectral_centroid</th>\n",
       "      <th>spectral_bandwidth</th>\n",
       "      <th>rolloff</th>\n",
       "      <th>zero_crossing_rate</th>\n",
       "      <th>mfcc1</th>\n",
       "      <th>mfcc2</th>\n",
       "      <th>mfcc3</th>\n",
       "      <th>mfcc4</th>\n",
       "      <th>...</th>\n",
       "      <th>mfcc12</th>\n",
       "      <th>mfcc13</th>\n",
       "      <th>mfcc14</th>\n",
       "      <th>mfcc15</th>\n",
       "      <th>mfcc16</th>\n",
       "      <th>mfcc17</th>\n",
       "      <th>mfcc18</th>\n",
       "      <th>mfcc19</th>\n",
       "      <th>mfcc20</th>\n",
       "      <th>label</th>\n",
       "    </tr>\n",
       "  </thead>\n",
       "  <tbody>\n",
       "    <tr>\n",
       "      <th>16.wav</th>\n",
       "      <td>0.336735</td>\n",
       "      <td>0.139032</td>\n",
       "      <td>2319.077218</td>\n",
       "      <td>2253.280541</td>\n",
       "      <td>4433.562293</td>\n",
       "      <td>0.136306</td>\n",
       "      <td>-46.939845</td>\n",
       "      <td>96.082878</td>\n",
       "      <td>-34.760861</td>\n",
       "      <td>6.555476</td>\n",
       "      <td>...</td>\n",
       "      <td>1.336271</td>\n",
       "      <td>-12.225394</td>\n",
       "      <td>1.636775</td>\n",
       "      <td>-13.770354</td>\n",
       "      <td>-3.576074</td>\n",
       "      <td>-13.023877</td>\n",
       "      <td>-5.139051</td>\n",
       "      <td>-8.861365</td>\n",
       "      <td>1.189709</td>\n",
       "      <td>emg</td>\n",
       "    </tr>\n",
       "    <tr>\n",
       "      <th>115.wav</th>\n",
       "      <td>0.366516</td>\n",
       "      <td>0.121893</td>\n",
       "      <td>1429.716923</td>\n",
       "      <td>1436.014835</td>\n",
       "      <td>2135.306960</td>\n",
       "      <td>0.087938</td>\n",
       "      <td>-183.400367</td>\n",
       "      <td>147.385682</td>\n",
       "      <td>-50.888940</td>\n",
       "      <td>-18.983834</td>\n",
       "      <td>...</td>\n",
       "      <td>4.311789</td>\n",
       "      <td>-8.041852</td>\n",
       "      <td>-5.194807</td>\n",
       "      <td>-9.175669</td>\n",
       "      <td>8.424673</td>\n",
       "      <td>-0.666838</td>\n",
       "      <td>4.417144</td>\n",
       "      <td>-4.197929</td>\n",
       "      <td>2.284233</td>\n",
       "      <td>emg</td>\n",
       "    </tr>\n",
       "    <tr>\n",
       "      <th>129.wav</th>\n",
       "      <td>0.152577</td>\n",
       "      <td>0.129218</td>\n",
       "      <td>1719.699268</td>\n",
       "      <td>1557.988425</td>\n",
       "      <td>3210.931866</td>\n",
       "      <td>0.118277</td>\n",
       "      <td>-174.354378</td>\n",
       "      <td>126.503773</td>\n",
       "      <td>-40.680083</td>\n",
       "      <td>19.329856</td>\n",
       "      <td>...</td>\n",
       "      <td>8.058940</td>\n",
       "      <td>9.352358</td>\n",
       "      <td>9.306955</td>\n",
       "      <td>-2.078496</td>\n",
       "      <td>-2.652938</td>\n",
       "      <td>-6.436986</td>\n",
       "      <td>-11.161624</td>\n",
       "      <td>-9.202338</td>\n",
       "      <td>18.568309</td>\n",
       "      <td>emg</td>\n",
       "    </tr>\n",
       "    <tr>\n",
       "      <th>114.wav</th>\n",
       "      <td>0.368252</td>\n",
       "      <td>0.127702</td>\n",
       "      <td>1736.103588</td>\n",
       "      <td>1736.869814</td>\n",
       "      <td>2937.832876</td>\n",
       "      <td>0.106887</td>\n",
       "      <td>-94.540492</td>\n",
       "      <td>138.255575</td>\n",
       "      <td>-45.451346</td>\n",
       "      <td>5.874052</td>\n",
       "      <td>...</td>\n",
       "      <td>5.647712</td>\n",
       "      <td>-1.894431</td>\n",
       "      <td>-5.966371</td>\n",
       "      <td>-7.954815</td>\n",
       "      <td>7.424956</td>\n",
       "      <td>-3.828139</td>\n",
       "      <td>-2.738114</td>\n",
       "      <td>-3.914032</td>\n",
       "      <td>1.552890</td>\n",
       "      <td>emg</td>\n",
       "    </tr>\n",
       "    <tr>\n",
       "      <th>101.wav</th>\n",
       "      <td>0.357789</td>\n",
       "      <td>0.059673</td>\n",
       "      <td>1607.607983</td>\n",
       "      <td>1176.641100</td>\n",
       "      <td>2759.769851</td>\n",
       "      <td>0.122878</td>\n",
       "      <td>-227.530012</td>\n",
       "      <td>190.436873</td>\n",
       "      <td>-122.439689</td>\n",
       "      <td>69.724357</td>\n",
       "      <td>...</td>\n",
       "      <td>-1.829177</td>\n",
       "      <td>-0.084204</td>\n",
       "      <td>26.161006</td>\n",
       "      <td>-10.485490</td>\n",
       "      <td>-1.259245</td>\n",
       "      <td>-2.835080</td>\n",
       "      <td>-9.586060</td>\n",
       "      <td>7.707302</td>\n",
       "      <td>-4.592865</td>\n",
       "      <td>emg</td>\n",
       "    </tr>\n",
       "  </tbody>\n",
       "</table>\n",
       "<p>5 rows × 27 columns</p>\n",
       "</div>"
      ],
      "text/plain": [
       "         filename  chroma_stft  spectral_centroid  spectral_bandwidth  \\\n",
       "16.wav   0.336735     0.139032        2319.077218         2253.280541   \n",
       "115.wav  0.366516     0.121893        1429.716923         1436.014835   \n",
       "129.wav  0.152577     0.129218        1719.699268         1557.988425   \n",
       "114.wav  0.368252     0.127702        1736.103588         1736.869814   \n",
       "101.wav  0.357789     0.059673        1607.607983         1176.641100   \n",
       "\n",
       "             rolloff  zero_crossing_rate       mfcc1       mfcc2       mfcc3  \\\n",
       "16.wav   4433.562293            0.136306  -46.939845   96.082878  -34.760861   \n",
       "115.wav  2135.306960            0.087938 -183.400367  147.385682  -50.888940   \n",
       "129.wav  3210.931866            0.118277 -174.354378  126.503773  -40.680083   \n",
       "114.wav  2937.832876            0.106887  -94.540492  138.255575  -45.451346   \n",
       "101.wav  2759.769851            0.122878 -227.530012  190.436873 -122.439689   \n",
       "\n",
       "             mfcc4  ...    mfcc12     mfcc13     mfcc14     mfcc15    mfcc16  \\\n",
       "16.wav    6.555476  ...  1.336271 -12.225394   1.636775 -13.770354 -3.576074   \n",
       "115.wav -18.983834  ...  4.311789  -8.041852  -5.194807  -9.175669  8.424673   \n",
       "129.wav  19.329856  ...  8.058940   9.352358   9.306955  -2.078496 -2.652938   \n",
       "114.wav   5.874052  ...  5.647712  -1.894431  -5.966371  -7.954815  7.424956   \n",
       "101.wav  69.724357  ... -1.829177  -0.084204  26.161006 -10.485490 -1.259245   \n",
       "\n",
       "            mfcc17     mfcc18    mfcc19     mfcc20  label  \n",
       "16.wav  -13.023877  -5.139051 -8.861365   1.189709    emg  \n",
       "115.wav  -0.666838   4.417144 -4.197929   2.284233    emg  \n",
       "129.wav  -6.436986 -11.161624 -9.202338  18.568309    emg  \n",
       "114.wav  -3.828139  -2.738114 -3.914032   1.552890    emg  \n",
       "101.wav  -2.835080  -9.586060  7.707302  -4.592865    emg  \n",
       "\n",
       "[5 rows x 27 columns]"
      ]
     },
     "execution_count": 6,
     "metadata": {},
     "output_type": "execute_result"
    }
   ],
   "source": [
    "data.head()"
   ]
  },
  {
   "cell_type": "code",
   "execution_count": 7,
   "metadata": {
    "scrolled": true
   },
   "outputs": [
    {
     "data": {
      "text/html": [
       "<div>\n",
       "<style scoped>\n",
       "    .dataframe tbody tr th:only-of-type {\n",
       "        vertical-align: middle;\n",
       "    }\n",
       "\n",
       "    .dataframe tbody tr th {\n",
       "        vertical-align: top;\n",
       "    }\n",
       "\n",
       "    .dataframe thead th {\n",
       "        text-align: right;\n",
       "    }\n",
       "</style>\n",
       "<table border=\"1\" class=\"dataframe\">\n",
       "  <thead>\n",
       "    <tr style=\"text-align: right;\">\n",
       "      <th></th>\n",
       "      <th>filename</th>\n",
       "      <th>chroma_stft</th>\n",
       "      <th>spectral_centroid</th>\n",
       "      <th>spectral_bandwidth</th>\n",
       "      <th>rolloff</th>\n",
       "      <th>zero_crossing_rate</th>\n",
       "      <th>mfcc1</th>\n",
       "      <th>mfcc2</th>\n",
       "      <th>mfcc3</th>\n",
       "      <th>mfcc4</th>\n",
       "      <th>...</th>\n",
       "      <th>mfcc12</th>\n",
       "      <th>mfcc13</th>\n",
       "      <th>mfcc14</th>\n",
       "      <th>mfcc15</th>\n",
       "      <th>mfcc16</th>\n",
       "      <th>mfcc17</th>\n",
       "      <th>mfcc18</th>\n",
       "      <th>mfcc19</th>\n",
       "      <th>mfcc20</th>\n",
       "      <th>label</th>\n",
       "    </tr>\n",
       "  </thead>\n",
       "  <tbody>\n",
       "    <tr>\n",
       "      <th>1643.wav</th>\n",
       "      <td>0.628479</td>\n",
       "      <td>0.125002</td>\n",
       "      <td>1170.211118</td>\n",
       "      <td>977.385758</td>\n",
       "      <td>2353.951792</td>\n",
       "      <td>0.080670</td>\n",
       "      <td>-179.370990</td>\n",
       "      <td>275.965275</td>\n",
       "      <td>-113.131341</td>\n",
       "      <td>27.954429</td>\n",
       "      <td>...</td>\n",
       "      <td>-14.901137</td>\n",
       "      <td>10.937928</td>\n",
       "      <td>-17.354135</td>\n",
       "      <td>-2.214828</td>\n",
       "      <td>4.980945</td>\n",
       "      <td>-17.041255</td>\n",
       "      <td>-0.488682</td>\n",
       "      <td>-4.738972</td>\n",
       "      <td>-15.025646</td>\n",
       "      <td>nonemg</td>\n",
       "    </tr>\n",
       "    <tr>\n",
       "      <th>1508.wav</th>\n",
       "      <td>0.405301</td>\n",
       "      <td>0.187296</td>\n",
       "      <td>2222.765628</td>\n",
       "      <td>2251.512646</td>\n",
       "      <td>4379.522236</td>\n",
       "      <td>0.109131</td>\n",
       "      <td>-54.742289</td>\n",
       "      <td>99.070404</td>\n",
       "      <td>-24.679054</td>\n",
       "      <td>25.085460</td>\n",
       "      <td>...</td>\n",
       "      <td>-1.012706</td>\n",
       "      <td>-6.250167</td>\n",
       "      <td>0.400600</td>\n",
       "      <td>-9.520970</td>\n",
       "      <td>2.374747</td>\n",
       "      <td>-2.931647</td>\n",
       "      <td>-1.860034</td>\n",
       "      <td>-2.468395</td>\n",
       "      <td>-0.965646</td>\n",
       "      <td>nonemg</td>\n",
       "    </tr>\n",
       "    <tr>\n",
       "      <th>1452.wav</th>\n",
       "      <td>0.669726</td>\n",
       "      <td>0.012735</td>\n",
       "      <td>3711.428186</td>\n",
       "      <td>1978.700442</td>\n",
       "      <td>5811.273193</td>\n",
       "      <td>0.352595</td>\n",
       "      <td>-287.306574</td>\n",
       "      <td>70.932305</td>\n",
       "      <td>-69.379899</td>\n",
       "      <td>81.057205</td>\n",
       "      <td>...</td>\n",
       "      <td>-5.312476</td>\n",
       "      <td>-0.694801</td>\n",
       "      <td>-18.363962</td>\n",
       "      <td>-3.028178</td>\n",
       "      <td>-12.914511</td>\n",
       "      <td>-5.550405</td>\n",
       "      <td>-6.655982</td>\n",
       "      <td>-4.528847</td>\n",
       "      <td>-1.803591</td>\n",
       "      <td>nonemg</td>\n",
       "    </tr>\n",
       "    <tr>\n",
       "      <th>1484.wav</th>\n",
       "      <td>0.551086</td>\n",
       "      <td>0.049560</td>\n",
       "      <td>1447.333364</td>\n",
       "      <td>1878.963239</td>\n",
       "      <td>3042.807242</td>\n",
       "      <td>0.059373</td>\n",
       "      <td>-212.849874</td>\n",
       "      <td>140.594905</td>\n",
       "      <td>-10.264296</td>\n",
       "      <td>39.272801</td>\n",
       "      <td>...</td>\n",
       "      <td>8.591747</td>\n",
       "      <td>-9.062635</td>\n",
       "      <td>3.119594</td>\n",
       "      <td>-9.065744</td>\n",
       "      <td>4.451496</td>\n",
       "      <td>-11.833892</td>\n",
       "      <td>1.461118</td>\n",
       "      <td>-9.334039</td>\n",
       "      <td>0.370976</td>\n",
       "      <td>nonemg</td>\n",
       "    </tr>\n",
       "    <tr>\n",
       "      <th>1246.wav</th>\n",
       "      <td>0.521930</td>\n",
       "      <td>0.050788</td>\n",
       "      <td>5079.577903</td>\n",
       "      <td>3015.264400</td>\n",
       "      <td>8532.117638</td>\n",
       "      <td>0.429744</td>\n",
       "      <td>-103.052190</td>\n",
       "      <td>0.953892</td>\n",
       "      <td>-10.317923</td>\n",
       "      <td>-19.803503</td>\n",
       "      <td>...</td>\n",
       "      <td>6.531930</td>\n",
       "      <td>-7.390513</td>\n",
       "      <td>0.761238</td>\n",
       "      <td>-11.307439</td>\n",
       "      <td>-0.235426</td>\n",
       "      <td>-7.333210</td>\n",
       "      <td>5.047840</td>\n",
       "      <td>-0.961889</td>\n",
       "      <td>5.544510</td>\n",
       "      <td>nonemg</td>\n",
       "    </tr>\n",
       "  </tbody>\n",
       "</table>\n",
       "<p>5 rows × 27 columns</p>\n",
       "</div>"
      ],
      "text/plain": [
       "          filename  chroma_stft  spectral_centroid  spectral_bandwidth  \\\n",
       "1643.wav  0.628479     0.125002        1170.211118          977.385758   \n",
       "1508.wav  0.405301     0.187296        2222.765628         2251.512646   \n",
       "1452.wav  0.669726     0.012735        3711.428186         1978.700442   \n",
       "1484.wav  0.551086     0.049560        1447.333364         1878.963239   \n",
       "1246.wav  0.521930     0.050788        5079.577903         3015.264400   \n",
       "\n",
       "              rolloff  zero_crossing_rate       mfcc1       mfcc2       mfcc3  \\\n",
       "1643.wav  2353.951792            0.080670 -179.370990  275.965275 -113.131341   \n",
       "1508.wav  4379.522236            0.109131  -54.742289   99.070404  -24.679054   \n",
       "1452.wav  5811.273193            0.352595 -287.306574   70.932305  -69.379899   \n",
       "1484.wav  3042.807242            0.059373 -212.849874  140.594905  -10.264296   \n",
       "1246.wav  8532.117638            0.429744 -103.052190    0.953892  -10.317923   \n",
       "\n",
       "              mfcc4  ...     mfcc12     mfcc13     mfcc14     mfcc15  \\\n",
       "1643.wav  27.954429  ... -14.901137  10.937928 -17.354135  -2.214828   \n",
       "1508.wav  25.085460  ...  -1.012706  -6.250167   0.400600  -9.520970   \n",
       "1452.wav  81.057205  ...  -5.312476  -0.694801 -18.363962  -3.028178   \n",
       "1484.wav  39.272801  ...   8.591747  -9.062635   3.119594  -9.065744   \n",
       "1246.wav -19.803503  ...   6.531930  -7.390513   0.761238 -11.307439   \n",
       "\n",
       "             mfcc16     mfcc17    mfcc18    mfcc19     mfcc20   label  \n",
       "1643.wav   4.980945 -17.041255 -0.488682 -4.738972 -15.025646  nonemg  \n",
       "1508.wav   2.374747  -2.931647 -1.860034 -2.468395  -0.965646  nonemg  \n",
       "1452.wav -12.914511  -5.550405 -6.655982 -4.528847  -1.803591  nonemg  \n",
       "1484.wav   4.451496 -11.833892  1.461118 -9.334039   0.370976  nonemg  \n",
       "1246.wav  -0.235426  -7.333210  5.047840 -0.961889   5.544510  nonemg  \n",
       "\n",
       "[5 rows x 27 columns]"
      ]
     },
     "execution_count": 7,
     "metadata": {},
     "output_type": "execute_result"
    }
   ],
   "source": [
    "data_1.head()"
   ]
  },
  {
   "cell_type": "code",
   "execution_count": 8,
   "metadata": {},
   "outputs": [],
   "source": [
    "train = pd.concat([data , data_1])"
   ]
  },
  {
   "cell_type": "code",
   "execution_count": 9,
   "metadata": {},
   "outputs": [
    {
     "data": {
      "text/plain": [
       "(246, 27)"
      ]
     },
     "execution_count": 9,
     "metadata": {},
     "output_type": "execute_result"
    }
   ],
   "source": [
    "train.shape"
   ]
  },
  {
   "cell_type": "code",
   "execution_count": 10,
   "metadata": {},
   "outputs": [],
   "source": [
    "train =train.sample(frac = 1)"
   ]
  },
  {
   "cell_type": "code",
   "execution_count": 11,
   "metadata": {},
   "outputs": [
    {
     "data": {
      "text/plain": [
       "(246, 27)"
      ]
     },
     "execution_count": 11,
     "metadata": {},
     "output_type": "execute_result"
    }
   ],
   "source": [
    "train.shape"
   ]
  },
  {
   "cell_type": "code",
   "execution_count": 12,
   "metadata": {},
   "outputs": [
    {
     "data": {
      "text/html": [
       "<div>\n",
       "<style scoped>\n",
       "    .dataframe tbody tr th:only-of-type {\n",
       "        vertical-align: middle;\n",
       "    }\n",
       "\n",
       "    .dataframe tbody tr th {\n",
       "        vertical-align: top;\n",
       "    }\n",
       "\n",
       "    .dataframe thead th {\n",
       "        text-align: right;\n",
       "    }\n",
       "</style>\n",
       "<table border=\"1\" class=\"dataframe\">\n",
       "  <thead>\n",
       "    <tr style=\"text-align: right;\">\n",
       "      <th></th>\n",
       "      <th>filename</th>\n",
       "      <th>chroma_stft</th>\n",
       "      <th>spectral_centroid</th>\n",
       "      <th>spectral_bandwidth</th>\n",
       "      <th>rolloff</th>\n",
       "      <th>zero_crossing_rate</th>\n",
       "      <th>mfcc1</th>\n",
       "      <th>mfcc2</th>\n",
       "      <th>mfcc3</th>\n",
       "      <th>mfcc4</th>\n",
       "      <th>...</th>\n",
       "      <th>mfcc12</th>\n",
       "      <th>mfcc13</th>\n",
       "      <th>mfcc14</th>\n",
       "      <th>mfcc15</th>\n",
       "      <th>mfcc16</th>\n",
       "      <th>mfcc17</th>\n",
       "      <th>mfcc18</th>\n",
       "      <th>mfcc19</th>\n",
       "      <th>mfcc20</th>\n",
       "      <th>label</th>\n",
       "    </tr>\n",
       "  </thead>\n",
       "  <tbody>\n",
       "    <tr>\n",
       "      <th>1589.wav</th>\n",
       "      <td>0.223390</td>\n",
       "      <td>0.000284</td>\n",
       "      <td>609.529337</td>\n",
       "      <td>750.206370</td>\n",
       "      <td>1103.162560</td>\n",
       "      <td>0.029316</td>\n",
       "      <td>-938.619912</td>\n",
       "      <td>60.773730</td>\n",
       "      <td>-5.337858</td>\n",
       "      <td>-1.696135</td>\n",
       "      <td>...</td>\n",
       "      <td>-0.568970</td>\n",
       "      <td>-2.642049</td>\n",
       "      <td>0.800943</td>\n",
       "      <td>-3.287903</td>\n",
       "      <td>-1.300352</td>\n",
       "      <td>-1.969187</td>\n",
       "      <td>2.387371</td>\n",
       "      <td>-1.377289</td>\n",
       "      <td>1.099834</td>\n",
       "      <td>nonemg</td>\n",
       "    </tr>\n",
       "    <tr>\n",
       "      <th>58_2.wav</th>\n",
       "      <td>0.206415</td>\n",
       "      <td>0.137224</td>\n",
       "      <td>1503.883204</td>\n",
       "      <td>1210.816549</td>\n",
       "      <td>2742.791748</td>\n",
       "      <td>0.088952</td>\n",
       "      <td>-238.381432</td>\n",
       "      <td>134.892806</td>\n",
       "      <td>-84.341557</td>\n",
       "      <td>39.380126</td>\n",
       "      <td>...</td>\n",
       "      <td>-3.966178</td>\n",
       "      <td>-15.294872</td>\n",
       "      <td>15.485809</td>\n",
       "      <td>7.927618</td>\n",
       "      <td>27.158918</td>\n",
       "      <td>33.708923</td>\n",
       "      <td>12.544305</td>\n",
       "      <td>0.726681</td>\n",
       "      <td>-10.445794</td>\n",
       "      <td>emg</td>\n",
       "    </tr>\n",
       "    <tr>\n",
       "      <th>48.wav</th>\n",
       "      <td>0.222470</td>\n",
       "      <td>0.223887</td>\n",
       "      <td>2642.780855</td>\n",
       "      <td>2162.426833</td>\n",
       "      <td>5382.679631</td>\n",
       "      <td>0.133357</td>\n",
       "      <td>-146.363536</td>\n",
       "      <td>50.564367</td>\n",
       "      <td>-31.343019</td>\n",
       "      <td>18.172621</td>\n",
       "      <td>...</td>\n",
       "      <td>6.113493</td>\n",
       "      <td>7.471029</td>\n",
       "      <td>18.968931</td>\n",
       "      <td>-3.340615</td>\n",
       "      <td>-22.257784</td>\n",
       "      <td>-12.375447</td>\n",
       "      <td>-0.103323</td>\n",
       "      <td>-17.504652</td>\n",
       "      <td>4.975380</td>\n",
       "      <td>emg</td>\n",
       "    </tr>\n",
       "    <tr>\n",
       "      <th>1381.wav</th>\n",
       "      <td>0.663291</td>\n",
       "      <td>0.068590</td>\n",
       "      <td>1868.635096</td>\n",
       "      <td>2354.388293</td>\n",
       "      <td>4477.663950</td>\n",
       "      <td>0.056650</td>\n",
       "      <td>-156.732449</td>\n",
       "      <td>100.784709</td>\n",
       "      <td>-6.351665</td>\n",
       "      <td>30.516442</td>\n",
       "      <td>...</td>\n",
       "      <td>12.022528</td>\n",
       "      <td>-2.551857</td>\n",
       "      <td>6.985410</td>\n",
       "      <td>-2.505787</td>\n",
       "      <td>6.919369</td>\n",
       "      <td>-2.684377</td>\n",
       "      <td>3.042210</td>\n",
       "      <td>-5.149180</td>\n",
       "      <td>4.036902</td>\n",
       "      <td>nonemg</td>\n",
       "    </tr>\n",
       "    <tr>\n",
       "      <th>1100.wav</th>\n",
       "      <td>0.449446</td>\n",
       "      <td>0.098963</td>\n",
       "      <td>2274.523060</td>\n",
       "      <td>2092.719322</td>\n",
       "      <td>4415.548941</td>\n",
       "      <td>0.135770</td>\n",
       "      <td>-145.347646</td>\n",
       "      <td>101.057871</td>\n",
       "      <td>-33.851112</td>\n",
       "      <td>13.924831</td>\n",
       "      <td>...</td>\n",
       "      <td>4.671365</td>\n",
       "      <td>-4.947416</td>\n",
       "      <td>7.517039</td>\n",
       "      <td>-6.070449</td>\n",
       "      <td>3.839639</td>\n",
       "      <td>-5.647685</td>\n",
       "      <td>5.260220</td>\n",
       "      <td>-4.676338</td>\n",
       "      <td>2.264027</td>\n",
       "      <td>nonemg</td>\n",
       "    </tr>\n",
       "  </tbody>\n",
       "</table>\n",
       "<p>5 rows × 27 columns</p>\n",
       "</div>"
      ],
      "text/plain": [
       "          filename  chroma_stft  spectral_centroid  spectral_bandwidth  \\\n",
       "1589.wav  0.223390     0.000284         609.529337          750.206370   \n",
       "58_2.wav  0.206415     0.137224        1503.883204         1210.816549   \n",
       "48.wav    0.222470     0.223887        2642.780855         2162.426833   \n",
       "1381.wav  0.663291     0.068590        1868.635096         2354.388293   \n",
       "1100.wav  0.449446     0.098963        2274.523060         2092.719322   \n",
       "\n",
       "              rolloff  zero_crossing_rate       mfcc1       mfcc2      mfcc3  \\\n",
       "1589.wav  1103.162560            0.029316 -938.619912   60.773730  -5.337858   \n",
       "58_2.wav  2742.791748            0.088952 -238.381432  134.892806 -84.341557   \n",
       "48.wav    5382.679631            0.133357 -146.363536   50.564367 -31.343019   \n",
       "1381.wav  4477.663950            0.056650 -156.732449  100.784709  -6.351665   \n",
       "1100.wav  4415.548941            0.135770 -145.347646  101.057871 -33.851112   \n",
       "\n",
       "              mfcc4  ...     mfcc12     mfcc13     mfcc14    mfcc15  \\\n",
       "1589.wav  -1.696135  ...  -0.568970  -2.642049   0.800943 -3.287903   \n",
       "58_2.wav  39.380126  ...  -3.966178 -15.294872  15.485809  7.927618   \n",
       "48.wav    18.172621  ...   6.113493   7.471029  18.968931 -3.340615   \n",
       "1381.wav  30.516442  ...  12.022528  -2.551857   6.985410 -2.505787   \n",
       "1100.wav  13.924831  ...   4.671365  -4.947416   7.517039 -6.070449   \n",
       "\n",
       "             mfcc16     mfcc17     mfcc18     mfcc19     mfcc20   label  \n",
       "1589.wav  -1.300352  -1.969187   2.387371  -1.377289   1.099834  nonemg  \n",
       "58_2.wav  27.158918  33.708923  12.544305   0.726681 -10.445794     emg  \n",
       "48.wav   -22.257784 -12.375447  -0.103323 -17.504652   4.975380     emg  \n",
       "1381.wav   6.919369  -2.684377   3.042210  -5.149180   4.036902  nonemg  \n",
       "1100.wav   3.839639  -5.647685   5.260220  -4.676338   2.264027  nonemg  \n",
       "\n",
       "[5 rows x 27 columns]"
      ]
     },
     "execution_count": 12,
     "metadata": {},
     "output_type": "execute_result"
    }
   ],
   "source": [
    "train.head(5)"
   ]
  },
  {
   "cell_type": "code",
   "execution_count": 13,
   "metadata": {},
   "outputs": [],
   "source": [
    "train.drop(\"filename\" , axis = 1 , inplace = True)"
   ]
  },
  {
   "cell_type": "code",
   "execution_count": 14,
   "metadata": {},
   "outputs": [],
   "source": [
    "le = LabelEncoder()\n",
    "train['label'] = le.fit_transform(train['label'])"
   ]
  },
  {
   "cell_type": "code",
   "execution_count": 15,
   "metadata": {},
   "outputs": [],
   "source": [
    "y = train.pop(\"label\")"
   ]
  },
  {
   "cell_type": "code",
   "execution_count": 29,
   "metadata": {},
   "outputs": [],
   "source": [
    "max_depths = np.linspace(1, 30, 30, endpoint=True)"
   ]
  },
  {
   "cell_type": "code",
   "execution_count": 30,
   "metadata": {},
   "outputs": [],
   "source": [
    "training_results = []\n",
    "testing_results = []\n",
    "for max_depth in max_depths:\n",
    "    clf = DecisionTreeClassifier(max_depth=max_depth)\n",
    "    clf.fit(x_train, y_train)\n",
    "    train_pred = clf.predict(x_train)\n",
    "    false_positive_rate, true_positive_rate, thresholds = roc_curve(y_train, train_pred)\n",
    "    roc_auc = auc(false_positive_rate, true_positive_rate)\n",
    "    training_results.append(roc_auc)\n",
    "   \n",
    "    y_pred = clf.predict(x_test)\n",
    "    false_positive_rate, true_positive_rate, thresholds = roc_curve(y_test, y_pred)\n",
    "    roc_auc = auc(false_positive_rate, true_positive_rate)\n",
    "    testing_results.append(roc_auc)"
   ]
  },
  {
   "cell_type": "code",
   "execution_count": 31,
   "metadata": {},
   "outputs": [],
   "source": [
    "from matplotlib.legend_handler import HandlerLine2D"
   ]
  },
  {
   "cell_type": "code",
   "execution_count": 32,
   "metadata": {},
   "outputs": [
    {
     "name": "stderr",
     "output_type": "stream",
     "text": [
      "No handles with labels found to put in legend.\n"
     ]
    },
    {
     "data": {
      "text/plain": [
       "Text(0.5, 0, 'Tree_depth')"
      ]
     },
     "execution_count": 32,
     "metadata": {},
     "output_type": "execute_result"
    },
    {
     "data": {
      "image/png": "[encoded data removed]",
      "text/plain": [
       "<Figure size 432x288 with 1 Axes>"
      ]
     },
     "metadata": {
      "needs_background": "light"
     },
     "output_type": "display_data"
    }
   ],
   "source": [
    "line1, = plt.plot(max_depths, training_results, \"b\")\n",
    "line2, = plt.plot(max_depths, testing_results, \"r\")\n",
    "plt.legend(handler_map={line1: HandlerLine2D(numpoints=2)})\n",
    "plt.ylabel(\"AUC_score\")\n",
    "plt.xlabel(\"Tree_depth\")"
   ]
  },
  {
   "cell_type": "code",
   "execution_count": 33,
   "metadata": {},
   "outputs": [
    {
     "data": {
      "text/plain": [
       "Text(0.5, 0, 'min samples split')"
      ]
     },
     "execution_count": 33,
     "metadata": {},
     "output_type": "execute_result"
    },
    {
     "data": {
      "image/png": "[encoded data removed]",
      "text/plain": [
       "<Figure size 432x288 with 1 Axes>"
      ]
     },
     "metadata": {
      "needs_background": "light"
     },
     "output_type": "display_data"
    }
   ],
   "source": [
    "min_samples_splits = np.linspace(0.1, 1.0, 10, endpoint=True)\n",
    "train_results = []\n",
    "test_results = []\n",
    "for min_samples_split in min_samples_splits:\n",
    "    clf = DecisionTreeClassifier(min_samples_split=min_samples_split)\n",
    "    clf.fit(x_train, y_train)\n",
    "    train_pred = clf.predict(x_train)\n",
    "    false_positive_rate, true_positive_rate, thresholds = roc_curve(y_train, train_pred)\n",
    "    roc_auc = auc(false_positive_rate, true_positive_rate)\n",
    "    train_results.append(roc_auc)\n",
    "    y_pred = clf.predict(x_test)\n",
    "    false_positive_rate, true_positive_rate, thresholds = roc_curve(y_test, y_pred)\n",
    "    roc_auc = auc(false_positive_rate, true_positive_rate)\n",
    "    test_results.append(roc_auc)\n",
    "line1, = plt.plot(min_samples_splits, train_results, \"b\", label=\"Train AUC\")\n",
    "line2, = plt.plot(min_samples_splits, test_results, \"r\" , label=\"Test AUC\")\n",
    "plt.legend(handler_map={line1: HandlerLine2D(numpoints=2)})\n",
    "plt.ylabel(\"AUC score\")\n",
    "plt.xlabel(\"min samples split\")"
   ]
  },
  {
   "cell_type": "code",
   "execution_count": 34,
   "metadata": {},
   "outputs": [
    {
     "data": {
      "text/plain": [
       "Text(0.5, 0, 'min samples leaf')"
      ]
     },
     "execution_count": 34,
     "metadata": {},
     "output_type": "execute_result"
    },
    {
     "data": {
      "image/png": "[encoded data removed]",
      "text/plain": [
       "<Figure size 432x288 with 1 Axes>"
      ]
     },
     "metadata": {
      "needs_background": "light"
     },
     "output_type": "display_data"
    }
   ],
   "source": [
    "min_samples_leafs = np.linspace(0.1, 0.5, 5, endpoint=True)\n",
    "train_results = []\n",
    "test_results = []\n",
    "for min_samples_leaf in min_samples_leafs:\n",
    "    clf = DecisionTreeClassifier(min_samples_leaf=min_samples_leaf)\n",
    "    clf.fit(x_train, y_train)\n",
    "    train_pred = clf.predict(x_train)\n",
    "    false_positive_rate, true_positive_rate, thresholds = roc_curve(y_train, train_pred)\n",
    "    roc_auc = auc(false_positive_rate, true_positive_rate)\n",
    "    train_results.append(roc_auc)\n",
    "    y_pred = clf.predict(x_test)\n",
    "    false_positive_rate, true_positive_rate, thresholds = roc_curve(y_test, y_pred)\n",
    "    roc_auc = auc(false_positive_rate, true_positive_rate)\n",
    "    test_results.append(roc_auc)\n",
    "\n",
    "line1, = plt.plot(min_samples_leafs, train_results, \"r\", label=\"train AUC\")\n",
    "line2, = plt.plot(min_samples_leafs, test_results, \"b\", label=\"test AUC\")\n",
    "plt.legend(handler_map={line1: HandlerLine2D(numpoints=2)})\n",
    "plt.ylabel(\"AUC score\")\n",
    "plt.xlabel(\"min samples leaf\")"
   ]
  },
  {
   "cell_type": "code",
   "execution_count": 35,
   "metadata": {
    "scrolled": true
   },
   "outputs": [
    {
     "data": {
      "text/plain": [
       "Text(0.5, 0, 'max features')"
      ]
     },
     "execution_count": 35,
     "metadata": {},
     "output_type": "execute_result"
    },
    {
     "data": {
      "image/png": "[encoded data removed]",
      "text/plain": [
       "<Figure size 432x288 with 1 Axes>"
      ]
     },
     "metadata": {
      "needs_background": "light"
     },
     "output_type": "display_data"
    }
   ],
   "source": [
    "max_features = list(range(1,train.shape[1]))\n",
    "train_results = []\n",
    "test_results = []\n",
    "for max_feature in max_features:\n",
    "    clf = DecisionTreeClassifier(max_features=max_feature)\n",
    "    clf.fit(x_train, y_train)\n",
    "    train_pred = clf.predict(x_train)\n",
    "    false_positive_rate, true_positive_rate, thresholds = roc_curve(y_train, train_pred)\n",
    "    roc_auc = auc(false_positive_rate, true_positive_rate)\n",
    "    train_results.append(roc_auc)\n",
    "    y_pred = clf.predict(x_test)\n",
    "    false_positive_rate, true_positive_rate, thresholds = roc_curve(y_test, y_pred)\n",
    "    roc_auc = auc(false_positive_rate, true_positive_rate)\n",
    "    test_results.append(roc_auc)\n",
    "\n",
    "line1, = plt.plot(max_features, train_results, \"b\", label=\"Train AUC\")\n",
    "line2, = plt.plot(max_features, test_results, \"r\" , label=\"Test AUC\")\n",
    "plt.legend(handler_map={line1: HandlerLine2D(numpoints=2)})\n",
    "plt.ylabel(\"AUC score\")\n",
    "plt.xlabel(\"max features\")"
   ]
  },
  {
   "cell_type": "code",
   "execution_count": 36,
   "metadata": {},
   "outputs": [],
   "source": [
    "scores =[]\n",
    "a = list(range(1,31))\n",
    "for i in a:\n",
    "    x_train, x_test, y_train, y_test = train_test_split(train, y , test_size=0.20 , random_state = i)\n",
    "    clf =DecisionTreeClassifier(max_depth = 26 , min_samples_split = 0.3 , min_samples_leaf= 0.48 )\n",
    "    clf.fit(x_train , y_train)\n",
    "    y_pred = clf.predict(x_test)\n",
    "    false_positive_rate, true_positive_rate, thresholds = roc_curve(y_test, y_pred)\n",
    "    roc_auc = auc(false_positive_rate, true_positive_rate)\n",
    "    scores.append(roc_auc) "
   ]
  },
  {
   "cell_type": "code",
   "execution_count": 37,
   "metadata": {},
   "outputs": [
    {
     "data": {
      "text/plain": [
       "[<matplotlib.lines.Line2D at 0x904c850>]"
      ]
     },
     "execution_count": 37,
     "metadata": {},
     "output_type": "execute_result"
    },
    {
     "data": {
      "image/png": "[encoded data removed]",
      "text/plain": [
       "<Figure size 432x288 with 1 Axes>"
      ]
     },
     "metadata": {
      "needs_background": "light"
     },
     "output_type": "display_data"
    }
   ],
   "source": [
    "plt.plot(a , scores)"
   ]
  },
  {
   "cell_type": "code",
   "execution_count": 38,
   "metadata": {},
   "outputs": [
    {
     "data": {
      "text/plain": [
       "0.8236714975845411"
      ]
     },
     "execution_count": 38,
     "metadata": {},
     "output_type": "execute_result"
    }
   ],
   "source": [
    "max(scores)"
   ]
  }
 ],
 "metadata": {
  "kernelspec": {
   "display_name": "Python 3",
   "language": "python",
   "name": "python3"
  },
  "language_info": {
   "codemirror_mode": {
    "name": "ipython",
    "version": 3
   },
   "file_extension": ".py",
   "mimetype": "text/x-python",
   "name": "python",
   "nbconvert_exporter": "python",
   "pygments_lexer": "ipython3",
   "version": "3.7.6"
  }
 },
 "nbformat": 4,
 "nbformat_minor": 4
}
