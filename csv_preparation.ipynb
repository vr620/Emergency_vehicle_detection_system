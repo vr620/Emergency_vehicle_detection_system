{
 "cells": [
  {
   "cell_type": "code",
   "execution_count": 2,
   "metadata": {
    "colab": {
     "base_uri": "https://localhost:8080/",
     "height": 54
    },
    "colab_type": "code",
    "id": "Wr8nTnsUM-4F",
    "outputId": "b74a5535-1965-4af6-8c3f-a2a3295440cc"
   },
   "outputs": [
    {
     "name": "stdout",
     "output_type": "stream",
     "text": [
      "Drive already mounted at /content/drive; to attempt to forcibly remount, call drive.mount(\"/content/drive\", force_remount=True).\n"
     ]
    }
   ],
   "source": [
    "from google.colab import drive\n",
    "drive.mount('/content/drive')"
   ]
  },
  {
   "cell_type": "markdown",
   "metadata": {
    "colab_type": "text",
    "id": "shXm6s1OWVLF"
   },
   "source": [
    "**Libraries for data loading(audio files) and visualization**"
   ]
  },
  {
   "cell_type": "code",
   "execution_count": 0,
   "metadata": {
    "colab": {},
    "colab_type": "code",
    "id": "GamIDpPbVttr"
   },
   "outputs": [],
   "source": [
    "import librosa\n",
    "import pandas as pd\n",
    "import numpy as np\n",
    "import matplotlib.pyplot as plt\n",
    "%matplotlib inline"
   ]
  },
  {
   "cell_type": "markdown",
   "metadata": {
    "colab_type": "text",
    "id": "scGp8uzpWWdo"
   },
   "source": [
    "**Libraries for data handling from drive**"
   ]
  },
  {
   "cell_type": "code",
   "execution_count": 0,
   "metadata": {
    "colab": {},
    "colab_type": "code",
    "id": "MpHmMCAoWPr7"
   },
   "outputs": [],
   "source": [
    "import os\n",
    "from PIL import Image\n",
    "import pathlib\n",
    "import csv\n",
    "import warnings\n",
    "warnings.filterwarnings('ignore')"
   ]
  },
  {
   "cell_type": "markdown",
   "metadata": {
    "colab_type": "text",
    "id": "YDKia_quXXtw"
   },
   "source": [
    "**checking the lengths ofour audio files in Emergency and nonemergency folder**"
   ]
  },
  {
   "cell_type": "code",
   "execution_count": 0,
   "metadata": {
    "colab": {},
    "colab_type": "code",
    "id": "zIq4unEJWUA8"
   },
   "outputs": [],
   "source": [
    "emg_len =[]\n",
    "k = \"emg\"\n",
    "for filename in os.listdir(f'./drive/My Drive/new train/{k}'):\n",
    "    songname = f'./drive/My Drive/new train/{k}/{filename}'\n",
    "    y, sr = librosa.load(songname, mono=True)\n",
    "    c = librosa.get_duration(y=y , sr=sr)\n",
    "    emg_len.append(c)"
   ]
  },
  {
   "cell_type": "code",
   "execution_count": 0,
   "metadata": {
    "colab": {},
    "colab_type": "code",
    "id": "eR7t6jElZ603"
   },
   "outputs": [],
   "source": [
    "nonemg_len = []\n",
    "g = \"nonemg\"\n",
    "for filename in os.listdir(f'./drive/My Drive/new train/{g}'):\n",
    "    songname = f'./drive/My Drive/new train/{g}/{filename}'\n",
    "    y, sr = librosa.load(songname, mono=True)\n",
    "    d = librosa.get_duration(y=y , sr=sr)\n",
    "    nonemg_len.append(d)"
   ]
  },
  {
   "cell_type": "markdown",
   "metadata": {
    "colab_type": "text",
    "id": "GgsMXKpKbyTh"
   },
   "source": [
    "**Maximum and Minimum lengths of audio file in emg and nonemg folder respectively .**"
   ]
  },
  {
   "cell_type": "code",
   "execution_count": 13,
   "metadata": {
    "colab": {
     "base_uri": "https://localhost:8080/",
     "height": 51
    },
    "colab_type": "code",
    "id": "bpXja08BYf9t",
    "outputId": "0a0d2307-c348-4a19-8258-826d481ef4cf"
   },
   "outputs": [
    {
     "name": "stdout",
     "output_type": "stream",
     "text": [
      "1.3605442176870748\n",
      "10.031020408163265\n"
     ]
    }
   ],
   "source": [
    "print(min(emg_len))\n",
    "print(max(emg_len))"
   ]
  },
  {
   "cell_type": "code",
   "execution_count": 14,
   "metadata": {
    "colab": {
     "base_uri": "https://localhost:8080/",
     "height": 51
    },
    "colab_type": "code",
    "id": "9aoup2LjZTgf",
    "outputId": "c47104a2-40dd-47f6-cbd7-56c56bc9c95e"
   },
   "outputs": [
    {
     "name": "stdout",
     "output_type": "stream",
     "text": [
      "6.032108843537415\n",
      "10.031020408163265\n"
     ]
    }
   ],
   "source": [
    "print(min(nonemg_len))\n",
    "print(max(nonemg_len))"
   ]
  },
  {
   "cell_type": "code",
   "execution_count": 0,
   "metadata": {
    "colab": {},
    "colab_type": "code",
    "id": "IAtoHb3UcA0a"
   },
   "outputs": [],
   "source": [
    "file = open('dataset.csv', 'w', newline='')"
   ]
  },
  {
   "cell_type": "code",
   "execution_count": 0,
   "metadata": {
    "colab": {},
    "colab_type": "code",
    "id": "ua6wrLMucA5N"
   },
   "outputs": [],
   "source": [
    "g = \"emg\"\n",
    "for filename in os.listdir(f'./drive/My Drive/new train/{g}'):\n",
    "    songname = f'./drive/My Drive/new train/{g}/{filename}'\n",
    "    y, sr = librosa.load(songname, mono=True, duration=1.2)\n",
    "    rmse = librosa.feature.rmse(y=y)\n",
    "    chroma_stft = librosa.feature.chroma_stft(y=y, sr=sr)\n",
    "    spec_cent = librosa.feature.spectral_centroid(y=y, sr=sr)\n",
    "    spec_bw = librosa.feature.spectral_bandwidth(y=y, sr=sr)\n",
    "    rolloff = librosa.feature.spectral_rolloff(y=y, sr=sr)\n",
    "    zcr = librosa.feature.zero_crossing_rate(y)\n",
    "    mfcc = librosa.feature.mfcc(y=y, sr=sr)\n",
    "    to_append = f'{filename} {np.mean(chroma_stft)} {np.mean(rmse)} {np.mean(spec_cent)} {np.mean(spec_bw)} {np.mean(rolloff)} {np.mean(zcr)}'    \n",
    "    for e in mfcc:\n",
    "        to_append += f' {np.mean(e)}'\n",
    "    to_append += f' {g}'\n",
    "    file = open('dataset.csv', 'a', newline='')\n",
    "    with file:\n",
    "        writer = csv.writer(file)\n",
    "        writer.writerow(to_append.split())"
   ]
  },
  {
   "cell_type": "code",
   "execution_count": 0,
   "metadata": {
    "colab": {},
    "colab_type": "code",
    "id": "GV7siMAVcA-z"
   },
   "outputs": [],
   "source": [
    "col_names = [\"filename\",\"chroma_stft\",\"spectral_centroid\",\"spectral_bandwidth\",\"rolloff\",\"zero_crossing_rate\",\"mfcc1\",\"mfcc2\",\"mfcc3\",\"mfcc4\",\"mfcc5\",\"mfcc6\",\"mfcc7\",\"mfcc8\",\"mfcc9\",\"mfcc10\",\"mfcc11\",\"mfcc12\",\"mfcc13\",\"mfcc14\",\"mfcc15\",\"mfcc16\",\"mfcc17\",\"mfcc18\",\"mfcc19\",\"mfcc20\",\"label\" ]\n",
    "data = pd.read_csv(\"dataset.csv\", names=col_names)"
   ]
  },
  {
   "cell_type": "code",
   "execution_count": 19,
   "metadata": {
    "colab": {
     "base_uri": "https://localhost:8080/",
     "height": 224
    },
    "colab_type": "code",
    "id": "FuraHWlJcA9A",
    "outputId": "ac16be4a-13e0-410d-857e-5d466a66f8b3"
   },
   "outputs": [
    {
     "data": {
      "text/html": [
       "<div>\n",
       "<style scoped>\n",
       "    .dataframe tbody tr th:only-of-type {\n",
       "        vertical-align: middle;\n",
       "    }\n",
       "\n",
       "    .dataframe tbody tr th {\n",
       "        vertical-align: top;\n",
       "    }\n",
       "\n",
       "    .dataframe thead th {\n",
       "        text-align: right;\n",
       "    }\n",
       "</style>\n",
       "<table border=\"1\" class=\"dataframe\">\n",
       "  <thead>\n",
       "    <tr style=\"text-align: right;\">\n",
       "      <th></th>\n",
       "      <th>filename</th>\n",
       "      <th>chroma_stft</th>\n",
       "      <th>spectral_centroid</th>\n",
       "      <th>spectral_bandwidth</th>\n",
       "      <th>rolloff</th>\n",
       "      <th>zero_crossing_rate</th>\n",
       "      <th>mfcc1</th>\n",
       "      <th>mfcc2</th>\n",
       "      <th>mfcc3</th>\n",
       "      <th>mfcc4</th>\n",
       "      <th>mfcc5</th>\n",
       "      <th>mfcc6</th>\n",
       "      <th>mfcc7</th>\n",
       "      <th>mfcc8</th>\n",
       "      <th>mfcc9</th>\n",
       "      <th>mfcc10</th>\n",
       "      <th>mfcc11</th>\n",
       "      <th>mfcc12</th>\n",
       "      <th>mfcc13</th>\n",
       "      <th>mfcc14</th>\n",
       "      <th>mfcc15</th>\n",
       "      <th>mfcc16</th>\n",
       "      <th>mfcc17</th>\n",
       "      <th>mfcc18</th>\n",
       "      <th>mfcc19</th>\n",
       "      <th>mfcc20</th>\n",
       "      <th>label</th>\n",
       "    </tr>\n",
       "  </thead>\n",
       "  <tbody>\n",
       "    <tr>\n",
       "      <th>16.wav</th>\n",
       "      <td>0.336735</td>\n",
       "      <td>0.139032</td>\n",
       "      <td>2319.077218</td>\n",
       "      <td>2253.280541</td>\n",
       "      <td>4433.562293</td>\n",
       "      <td>0.136306</td>\n",
       "      <td>-46.939845</td>\n",
       "      <td>96.082878</td>\n",
       "      <td>-34.760861</td>\n",
       "      <td>6.555476</td>\n",
       "      <td>-1.148019</td>\n",
       "      <td>1.135401</td>\n",
       "      <td>-9.738782</td>\n",
       "      <td>5.917510</td>\n",
       "      <td>-9.892740</td>\n",
       "      <td>-1.171672</td>\n",
       "      <td>-9.226726</td>\n",
       "      <td>1.336271</td>\n",
       "      <td>-12.225394</td>\n",
       "      <td>1.636775</td>\n",
       "      <td>-13.770354</td>\n",
       "      <td>-3.576074</td>\n",
       "      <td>-13.023877</td>\n",
       "      <td>-5.139051</td>\n",
       "      <td>-8.861365</td>\n",
       "      <td>1.189709</td>\n",
       "      <td>emg</td>\n",
       "    </tr>\n",
       "    <tr>\n",
       "      <th>115.wav</th>\n",
       "      <td>0.366516</td>\n",
       "      <td>0.121893</td>\n",
       "      <td>1429.716923</td>\n",
       "      <td>1436.014835</td>\n",
       "      <td>2135.306960</td>\n",
       "      <td>0.087938</td>\n",
       "      <td>-183.400367</td>\n",
       "      <td>147.385682</td>\n",
       "      <td>-50.888940</td>\n",
       "      <td>-18.983834</td>\n",
       "      <td>-12.171987</td>\n",
       "      <td>8.344767</td>\n",
       "      <td>15.206074</td>\n",
       "      <td>25.462968</td>\n",
       "      <td>-2.824896</td>\n",
       "      <td>1.263229</td>\n",
       "      <td>-6.268020</td>\n",
       "      <td>4.311789</td>\n",
       "      <td>-8.041852</td>\n",
       "      <td>-5.194807</td>\n",
       "      <td>-9.175669</td>\n",
       "      <td>8.424673</td>\n",
       "      <td>-0.666838</td>\n",
       "      <td>4.417144</td>\n",
       "      <td>-4.197929</td>\n",
       "      <td>2.284233</td>\n",
       "      <td>emg</td>\n",
       "    </tr>\n",
       "    <tr>\n",
       "      <th>129.wav</th>\n",
       "      <td>0.152577</td>\n",
       "      <td>0.129218</td>\n",
       "      <td>1719.699268</td>\n",
       "      <td>1557.988425</td>\n",
       "      <td>3210.931866</td>\n",
       "      <td>0.118277</td>\n",
       "      <td>-174.354378</td>\n",
       "      <td>126.503773</td>\n",
       "      <td>-40.680083</td>\n",
       "      <td>19.329856</td>\n",
       "      <td>-12.555419</td>\n",
       "      <td>14.918706</td>\n",
       "      <td>4.708719</td>\n",
       "      <td>22.574758</td>\n",
       "      <td>17.612922</td>\n",
       "      <td>-12.757205</td>\n",
       "      <td>-30.476018</td>\n",
       "      <td>8.058940</td>\n",
       "      <td>9.352358</td>\n",
       "      <td>9.306955</td>\n",
       "      <td>-2.078496</td>\n",
       "      <td>-2.652938</td>\n",
       "      <td>-6.436986</td>\n",
       "      <td>-11.161624</td>\n",
       "      <td>-9.202338</td>\n",
       "      <td>18.568309</td>\n",
       "      <td>emg</td>\n",
       "    </tr>\n",
       "    <tr>\n",
       "      <th>114.wav</th>\n",
       "      <td>0.368252</td>\n",
       "      <td>0.127702</td>\n",
       "      <td>1736.103588</td>\n",
       "      <td>1736.869814</td>\n",
       "      <td>2937.832876</td>\n",
       "      <td>0.106887</td>\n",
       "      <td>-94.540492</td>\n",
       "      <td>138.255575</td>\n",
       "      <td>-45.451346</td>\n",
       "      <td>5.874052</td>\n",
       "      <td>6.657686</td>\n",
       "      <td>7.265256</td>\n",
       "      <td>-3.291951</td>\n",
       "      <td>-0.243498</td>\n",
       "      <td>-8.079734</td>\n",
       "      <td>5.122292</td>\n",
       "      <td>-7.654782</td>\n",
       "      <td>5.647712</td>\n",
       "      <td>-1.894431</td>\n",
       "      <td>-5.966371</td>\n",
       "      <td>-7.954815</td>\n",
       "      <td>7.424956</td>\n",
       "      <td>-3.828139</td>\n",
       "      <td>-2.738114</td>\n",
       "      <td>-3.914032</td>\n",
       "      <td>1.552890</td>\n",
       "      <td>emg</td>\n",
       "    </tr>\n",
       "    <tr>\n",
       "      <th>101.wav</th>\n",
       "      <td>0.357789</td>\n",
       "      <td>0.059673</td>\n",
       "      <td>1607.607983</td>\n",
       "      <td>1176.641100</td>\n",
       "      <td>2759.769851</td>\n",
       "      <td>0.122878</td>\n",
       "      <td>-227.530012</td>\n",
       "      <td>190.436873</td>\n",
       "      <td>-122.439689</td>\n",
       "      <td>69.724357</td>\n",
       "      <td>4.641562</td>\n",
       "      <td>8.095872</td>\n",
       "      <td>24.591590</td>\n",
       "      <td>-2.158740</td>\n",
       "      <td>33.015927</td>\n",
       "      <td>-5.311306</td>\n",
       "      <td>1.734981</td>\n",
       "      <td>-1.829177</td>\n",
       "      <td>-0.084204</td>\n",
       "      <td>26.161006</td>\n",
       "      <td>-10.485490</td>\n",
       "      <td>-1.259245</td>\n",
       "      <td>-2.835080</td>\n",
       "      <td>-9.586060</td>\n",
       "      <td>7.707302</td>\n",
       "      <td>-4.592865</td>\n",
       "      <td>emg</td>\n",
       "    </tr>\n",
       "  </tbody>\n",
       "</table>\n",
       "</div>"
      ],
      "text/plain": [
       "         filename  chroma_stft  spectral_centroid  ...    mfcc19     mfcc20  label\n",
       "16.wav   0.336735     0.139032        2319.077218  ... -8.861365   1.189709    emg\n",
       "115.wav  0.366516     0.121893        1429.716923  ... -4.197929   2.284233    emg\n",
       "129.wav  0.152577     0.129218        1719.699268  ... -9.202338  18.568309    emg\n",
       "114.wav  0.368252     0.127702        1736.103588  ... -3.914032   1.552890    emg\n",
       "101.wav  0.357789     0.059673        1607.607983  ...  7.707302  -4.592865    emg\n",
       "\n",
       "[5 rows x 27 columns]"
      ]
     },
     "execution_count": 19,
     "metadata": {
      "tags": []
     },
     "output_type": "execute_result"
    }
   ],
   "source": [
    "data.head()"
   ]
  },
  {
   "cell_type": "code",
   "execution_count": 0,
   "metadata": {
    "colab": {},
    "colab_type": "code",
    "id": "29pqpTQZfk08"
   },
   "outputs": [],
   "source": [
    "file_1 = open('dataset_1.csv', 'w', newline='')"
   ]
  },
  {
   "cell_type": "code",
   "execution_count": 0,
   "metadata": {
    "colab": {},
    "colab_type": "code",
    "id": "sXeSFaI3f8qR"
   },
   "outputs": [],
   "source": [
    "k = \"nonemg\"\n",
    "for filename in os.listdir(f'./drive/My Drive/new train/{k}'):\n",
    "    audioname = f'./drive/My Drive/new train/{k}/{filename}'\n",
    "    y, sr = librosa.load(audioname, mono=True, duration=1.2)\n",
    "    rmse = librosa.feature.rmse(y=y)\n",
    "    chroma_stft = librosa.feature.chroma_stft(y=y, sr=sr)\n",
    "    spec_cent = librosa.feature.spectral_centroid(y=y, sr=sr)\n",
    "    spec_bw = librosa.feature.spectral_bandwidth(y=y, sr=sr)\n",
    "    rolloff = librosa.feature.spectral_rolloff(y=y, sr=sr)\n",
    "    zcr = librosa.feature.zero_crossing_rate(y)\n",
    "    mfcc = librosa.feature.mfcc(y=y, sr=sr)\n",
    "    to_append = f'{filename} {np.mean(chroma_stft)} {np.mean(rmse)} {np.mean(spec_cent)} {np.mean(spec_bw)} {np.mean(rolloff)} {np.mean(zcr)}'    \n",
    "    for e in mfcc:\n",
    "        to_append += f' {np.mean(e)}'\n",
    "    to_append += f' {k}'\n",
    "    file_1 = open('dataset_1.csv', 'a', newline='')\n",
    "    with file_1:\n",
    "        writer = csv.writer(file_1)\n",
    "        writer.writerow(to_append.split())"
   ]
  },
  {
   "cell_type": "code",
   "execution_count": 0,
   "metadata": {
    "colab": {},
    "colab_type": "code",
    "id": "arM47K1Df8wO"
   },
   "outputs": [],
   "source": [
    "col_names = [\"filename\",\"chroma_stft\",\"spectral_centroid\",\"spectral_bandwidth\",\"rolloff\",\"zero_crossing_rate\",\"mfcc1\",\"mfcc2\",\"mfcc3\",\"mfcc4\",\"mfcc5\",\"mfcc6\",\"mfcc7\",\"mfcc8\",\"mfcc9\",\"mfcc10\",\"mfcc11\",\"mfcc12\",\"mfcc13\",\"mfcc14\",\"mfcc15\",\"mfcc16\",\"mfcc17\",\"mfcc18\",\"mfcc19\",\"mfcc20\",\"label\" ]\n",
    "data_1 = pd.read_csv(\"dataset_1.csv\", names=col_names)"
   ]
  },
  {
   "cell_type": "code",
   "execution_count": 23,
   "metadata": {
    "colab": {
     "base_uri": "https://localhost:8080/",
     "height": 224
    },
    "colab_type": "code",
    "id": "VvMLcxsOf8tx",
    "outputId": "3159190f-529c-4931-c49b-c2b334ed5983"
   },
   "outputs": [
    {
     "data": {
      "text/html": [
       "<div>\n",
       "<style scoped>\n",
       "    .dataframe tbody tr th:only-of-type {\n",
       "        vertical-align: middle;\n",
       "    }\n",
       "\n",
       "    .dataframe tbody tr th {\n",
       "        vertical-align: top;\n",
       "    }\n",
       "\n",
       "    .dataframe thead th {\n",
       "        text-align: right;\n",
       "    }\n",
       "</style>\n",
       "<table border=\"1\" class=\"dataframe\">\n",
       "  <thead>\n",
       "    <tr style=\"text-align: right;\">\n",
       "      <th></th>\n",
       "      <th>filename</th>\n",
       "      <th>chroma_stft</th>\n",
       "      <th>spectral_centroid</th>\n",
       "      <th>spectral_bandwidth</th>\n",
       "      <th>rolloff</th>\n",
       "      <th>zero_crossing_rate</th>\n",
       "      <th>mfcc1</th>\n",
       "      <th>mfcc2</th>\n",
       "      <th>mfcc3</th>\n",
       "      <th>mfcc4</th>\n",
       "      <th>mfcc5</th>\n",
       "      <th>mfcc6</th>\n",
       "      <th>mfcc7</th>\n",
       "      <th>mfcc8</th>\n",
       "      <th>mfcc9</th>\n",
       "      <th>mfcc10</th>\n",
       "      <th>mfcc11</th>\n",
       "      <th>mfcc12</th>\n",
       "      <th>mfcc13</th>\n",
       "      <th>mfcc14</th>\n",
       "      <th>mfcc15</th>\n",
       "      <th>mfcc16</th>\n",
       "      <th>mfcc17</th>\n",
       "      <th>mfcc18</th>\n",
       "      <th>mfcc19</th>\n",
       "      <th>mfcc20</th>\n",
       "      <th>label</th>\n",
       "    </tr>\n",
       "  </thead>\n",
       "  <tbody>\n",
       "    <tr>\n",
       "      <th>1643.wav</th>\n",
       "      <td>0.628479</td>\n",
       "      <td>0.125002</td>\n",
       "      <td>1170.211118</td>\n",
       "      <td>977.385758</td>\n",
       "      <td>2353.951792</td>\n",
       "      <td>0.080670</td>\n",
       "      <td>-179.370990</td>\n",
       "      <td>275.965275</td>\n",
       "      <td>-113.131341</td>\n",
       "      <td>27.954429</td>\n",
       "      <td>20.662087</td>\n",
       "      <td>-64.021287</td>\n",
       "      <td>19.876903</td>\n",
       "      <td>-5.265403</td>\n",
       "      <td>-25.943668</td>\n",
       "      <td>23.164325</td>\n",
       "      <td>-13.476095</td>\n",
       "      <td>-14.901137</td>\n",
       "      <td>10.937928</td>\n",
       "      <td>-17.354135</td>\n",
       "      <td>-2.214828</td>\n",
       "      <td>4.980945</td>\n",
       "      <td>-17.041255</td>\n",
       "      <td>-0.488682</td>\n",
       "      <td>-4.738972</td>\n",
       "      <td>-15.025646</td>\n",
       "      <td>nonemg</td>\n",
       "    </tr>\n",
       "    <tr>\n",
       "      <th>1508.wav</th>\n",
       "      <td>0.405301</td>\n",
       "      <td>0.187296</td>\n",
       "      <td>2222.765628</td>\n",
       "      <td>2251.512646</td>\n",
       "      <td>4379.522236</td>\n",
       "      <td>0.109131</td>\n",
       "      <td>-54.742289</td>\n",
       "      <td>99.070404</td>\n",
       "      <td>-24.679054</td>\n",
       "      <td>25.085460</td>\n",
       "      <td>9.574454</td>\n",
       "      <td>-9.395452</td>\n",
       "      <td>-13.587409</td>\n",
       "      <td>8.064452</td>\n",
       "      <td>-15.421831</td>\n",
       "      <td>2.838719</td>\n",
       "      <td>-6.484725</td>\n",
       "      <td>-1.012706</td>\n",
       "      <td>-6.250167</td>\n",
       "      <td>0.400600</td>\n",
       "      <td>-9.520970</td>\n",
       "      <td>2.374747</td>\n",
       "      <td>-2.931647</td>\n",
       "      <td>-1.860034</td>\n",
       "      <td>-2.468395</td>\n",
       "      <td>-0.965646</td>\n",
       "      <td>nonemg</td>\n",
       "    </tr>\n",
       "    <tr>\n",
       "      <th>1452.wav</th>\n",
       "      <td>0.669726</td>\n",
       "      <td>0.012735</td>\n",
       "      <td>3711.428186</td>\n",
       "      <td>1978.700442</td>\n",
       "      <td>5811.273193</td>\n",
       "      <td>0.352595</td>\n",
       "      <td>-287.306574</td>\n",
       "      <td>70.932305</td>\n",
       "      <td>-69.379899</td>\n",
       "      <td>81.057205</td>\n",
       "      <td>-69.351489</td>\n",
       "      <td>55.450861</td>\n",
       "      <td>-36.881767</td>\n",
       "      <td>16.713527</td>\n",
       "      <td>-11.940898</td>\n",
       "      <td>2.596521</td>\n",
       "      <td>-2.462205</td>\n",
       "      <td>-5.312476</td>\n",
       "      <td>-0.694801</td>\n",
       "      <td>-18.363962</td>\n",
       "      <td>-3.028178</td>\n",
       "      <td>-12.914511</td>\n",
       "      <td>-5.550405</td>\n",
       "      <td>-6.655982</td>\n",
       "      <td>-4.528847</td>\n",
       "      <td>-1.803591</td>\n",
       "      <td>nonemg</td>\n",
       "    </tr>\n",
       "    <tr>\n",
       "      <th>1484.wav</th>\n",
       "      <td>0.551086</td>\n",
       "      <td>0.049560</td>\n",
       "      <td>1447.333364</td>\n",
       "      <td>1878.963239</td>\n",
       "      <td>3042.807242</td>\n",
       "      <td>0.059373</td>\n",
       "      <td>-212.849874</td>\n",
       "      <td>140.594905</td>\n",
       "      <td>-10.264296</td>\n",
       "      <td>39.272801</td>\n",
       "      <td>-5.564725</td>\n",
       "      <td>10.823713</td>\n",
       "      <td>0.414218</td>\n",
       "      <td>6.234071</td>\n",
       "      <td>1.379313</td>\n",
       "      <td>10.216781</td>\n",
       "      <td>-8.826650</td>\n",
       "      <td>8.591747</td>\n",
       "      <td>-9.062635</td>\n",
       "      <td>3.119594</td>\n",
       "      <td>-9.065744</td>\n",
       "      <td>4.451496</td>\n",
       "      <td>-11.833892</td>\n",
       "      <td>1.461118</td>\n",
       "      <td>-9.334039</td>\n",
       "      <td>0.370976</td>\n",
       "      <td>nonemg</td>\n",
       "    </tr>\n",
       "    <tr>\n",
       "      <th>1246.wav</th>\n",
       "      <td>0.521930</td>\n",
       "      <td>0.050788</td>\n",
       "      <td>5079.577903</td>\n",
       "      <td>3015.264400</td>\n",
       "      <td>8532.117638</td>\n",
       "      <td>0.429744</td>\n",
       "      <td>-103.052190</td>\n",
       "      <td>0.953892</td>\n",
       "      <td>-10.317923</td>\n",
       "      <td>-19.803503</td>\n",
       "      <td>-21.748735</td>\n",
       "      <td>-0.843162</td>\n",
       "      <td>-19.588570</td>\n",
       "      <td>0.562406</td>\n",
       "      <td>-7.109491</td>\n",
       "      <td>6.924392</td>\n",
       "      <td>-7.319651</td>\n",
       "      <td>6.531930</td>\n",
       "      <td>-7.390513</td>\n",
       "      <td>0.761238</td>\n",
       "      <td>-11.307439</td>\n",
       "      <td>-0.235426</td>\n",
       "      <td>-7.333210</td>\n",
       "      <td>5.047840</td>\n",
       "      <td>-0.961889</td>\n",
       "      <td>5.544510</td>\n",
       "      <td>nonemg</td>\n",
       "    </tr>\n",
       "  </tbody>\n",
       "</table>\n",
       "</div>"
      ],
      "text/plain": [
       "          filename  chroma_stft  spectral_centroid  ...    mfcc19     mfcc20   label\n",
       "1643.wav  0.628479     0.125002        1170.211118  ... -4.738972 -15.025646  nonemg\n",
       "1508.wav  0.405301     0.187296        2222.765628  ... -2.468395  -0.965646  nonemg\n",
       "1452.wav  0.669726     0.012735        3711.428186  ... -4.528847  -1.803591  nonemg\n",
       "1484.wav  0.551086     0.049560        1447.333364  ... -9.334039   0.370976  nonemg\n",
       "1246.wav  0.521930     0.050788        5079.577903  ... -0.961889   5.544510  nonemg\n",
       "\n",
       "[5 rows x 27 columns]"
      ]
     },
     "execution_count": 23,
     "metadata": {
      "tags": []
     },
     "output_type": "execute_result"
    }
   ],
   "source": [
    "data_1.head()"
   ]
  },
  {
   "cell_type": "code",
   "execution_count": 25,
   "metadata": {
    "colab": {
     "base_uri": "https://localhost:8080/",
     "height": 85
    },
    "colab_type": "code",
    "id": "eKki9tyPf8nf",
    "outputId": "0686fab9-0ce9-483a-e0f6-feaf790950a3"
   },
   "outputs": [
    {
     "name": "stdout",
     "output_type": "stream",
     "text": [
      "emg    123\n",
      "Name: label, dtype: int64\n",
      "nonemg    123\n",
      "Name: label, dtype: int64\n"
     ]
    }
   ],
   "source": [
    "print(data.label.value_counts())\n",
    "print(data_1.label.value_counts())"
   ]
  },
  {
   "cell_type": "code",
   "execution_count": 0,
   "metadata": {
    "colab": {},
    "colab_type": "code",
    "id": "bwISFuRZhbb1"
   },
   "outputs": [],
   "source": [
    "train = pd.concat([data , data_1]) "
   ]
  },
  {
   "cell_type": "code",
   "execution_count": 27,
   "metadata": {
    "colab": {
     "base_uri": "https://localhost:8080/",
     "height": 68
    },
    "colab_type": "code",
    "id": "OMb-zl9ZikKj",
    "outputId": "282c709c-4dca-4298-e79b-dfbf0f3800f4"
   },
   "outputs": [
    {
     "name": "stdout",
     "output_type": "stream",
     "text": [
      "(123, 27)\n",
      "(123, 27)\n",
      "(246, 27)\n"
     ]
    }
   ],
   "source": [
    "print(data.shape)\n",
    "print(data_1.shape)\n",
    "print(train.shape)"
   ]
  },
  {
   "cell_type": "code",
   "execution_count": 28,
   "metadata": {
    "colab": {
     "base_uri": "https://localhost:8080/",
     "height": 68
    },
    "colab_type": "code",
    "id": "8h5hRLNsishJ",
    "outputId": "8c1c3831-cb57-489a-88cf-060cd6ceaf75"
   },
   "outputs": [
    {
     "data": {
      "text/plain": [
       "emg       123\n",
       "nonemg    123\n",
       "Name: label, dtype: int64"
      ]
     },
     "execution_count": 28,
     "metadata": {
      "tags": []
     },
     "output_type": "execute_result"
    }
   ],
   "source": [
    "train.label.value_counts()"
   ]
  },
  {
   "cell_type": "code",
   "execution_count": 0,
   "metadata": {
    "colab": {},
    "colab_type": "code",
    "id": "B8evkoVhjDIq"
   },
   "outputs": [],
   "source": []
  }
 ],
 "metadata": {
  "colab": {
   "name": "audio_classification.ipynb",
   "provenance": []
  },
  "kernelspec": {
   "display_name": "Python 3",
   "language": "python",
   "name": "python3"
  },
  "language_info": {
   "codemirror_mode": {
    "name": "ipython",
    "version": 3
   },
   "file_extension": ".py",
   "mimetype": "text/x-python",
   "name": "python",
   "nbconvert_exporter": "python",
   "pygments_lexer": "ipython3",
   "version": "3.7.6"
  }
 },
 "nbformat": 4,
 "nbformat_minor": 1
}
